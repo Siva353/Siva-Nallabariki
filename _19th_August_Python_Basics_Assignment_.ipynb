{
 "cells": [
  {
   "cell_type": "code",
   "execution_count": 1,
   "id": "0df89e7e-e3e7-427d-8b30-e0e879eff3c1",
   "metadata": {},
   "outputs": [
    {
     "name": "stdout",
     "output_type": "stream",
     "text": [
      "1 2\n",
      "2 1\n"
     ]
    },
    {
     "data": {
      "text/plain": [
       "'x and y are two variables and assigned values are 1 and 2.\\n x,y = y,x is an swap operation(it means x and y values will interchange). \\n After that with help of print() output came.'"
      ]
     },
     "execution_count": 1,
     "metadata": {},
     "output_type": "execute_result"
    }
   ],
   "source": [
    "'''1.Declare two variables, `x` and `y`, and assign them integer values. Swap the\n",
    "values of these variables without using any temporary variable.'''\n",
    "\n",
    "x = 1\n",
    "y = 2\n",
    "print(x,y)\n",
    "x,y = y,x\n",
    "print(x,y)\n",
    "\n",
    "# Explanation:\n",
    "'''x and y are two variables and assigned values are 1 and 2.\n",
    " x,y = y,x is an swap operation(it means x and y values will interchange). \n",
    " After that with help of print() output came.'''"
   ]
  },
  {
   "cell_type": "code",
   "execution_count": 2,
   "id": "f5b71d3e-2415-470c-8f11-3d60ab2d806e",
   "metadata": {},
   "outputs": [
    {
     "name": "stdin",
     "output_type": "stream",
     "text": [
      " 10\n",
      " 5\n"
     ]
    },
    {
     "name": "stdout",
     "output_type": "stream",
     "text": [
      "50\n"
     ]
    },
    {
     "data": {
      "text/plain": [
       "'length(l) and breadth(b) are the inputs from user. Area of rectangle(a) = l*b'"
      ]
     },
     "execution_count": 2,
     "metadata": {},
     "output_type": "execute_result"
    }
   ],
   "source": [
    "'''2.Create a program that calculates the area of a rectangle. Take the length and\n",
    "width as inputs from the user and store them in variables. Calculate and\n",
    "display the area.'''\n",
    "\n",
    "l = int(input())\n",
    "b = int(input())\n",
    "a = l*b\n",
    "print(a)\n",
    "\n",
    "# Explanation:\n",
    "'''length(l) and breadth(b) are the inputs from user. Area of rectangle(a) = l*b'''"
   ]
  },
  {
   "cell_type": "code",
   "execution_count": 3,
   "id": "1fc410a4-17a0-405d-910f-df1a626f3a9e",
   "metadata": {},
   "outputs": [
    {
     "name": "stdin",
     "output_type": "stream",
     "text": [
      "Enter the temperature in Celsius:  30\n"
     ]
    },
    {
     "name": "stdout",
     "output_type": "stream",
     "text": [
      "The temperature in Fahrenheit is: 86.0\n"
     ]
    },
    {
     "data": {
      "text/plain": [
       "' °C = (°F - 32) × 5/9 this is the formula for calculating Celsius and Fahrenheit. \\nTake the temperature in Celsius as input and it is converted into integer.\\nfahrenheit = (celsius * 9/5) + 32 and after that print the fahrenheit.'"
      ]
     },
     "execution_count": 3,
     "metadata": {},
     "output_type": "execute_result"
    }
   ],
   "source": [
    "'''3. Write a Python program that converts temperatures from Celsius to\n",
    "Fahrenheit. Take the temperature in Celsius as input, store it in a variable,\n",
    "convert it to Fahrenheit, and display the result.'''\n",
    "\n",
    "celsius = int(input(\"Enter the temperature in Celsius: \"))\n",
    "fahrenheit = (celsius * 9/5) + 32\n",
    "print(\"The temperature in Fahrenheit is:\", fahrenheit)\n",
    "\n",
    "# Explanation:\n",
    "''' °C = (°F - 32) × 5/9 this is the formula for calculating Celsius and Fahrenheit. \n",
    "Take the temperature in Celsius as input and it is converted into integer.\n",
    "fahrenheit = (celsius * 9/5) + 32 and after that print the fahrenheit.'''"
   ]
  },
  {
   "cell_type": "code",
   "execution_count": 4,
   "id": "fe6be7f6-5351-4961-b7eb-a984f8551718",
   "metadata": {},
   "outputs": [
    {
     "name": "stdout",
     "output_type": "stream",
     "text": [
      "8\n"
     ]
    },
    {
     "data": {
      "text/plain": [
       "'1.len() it is an inbuilt function in python.\\n2.len() is not zero-indexed so index starts from 1,2,3,......,n.'"
      ]
     },
     "execution_count": 4,
     "metadata": {},
     "output_type": "execute_result"
    }
   ],
   "source": [
    "# string based questions\n",
    "'''1. Write a Python program that takes a string as input and prints the length of\n",
    "the string.'''\n",
    "\n",
    "s = \"sivamani\"\n",
    "len(s)\n",
    "print(len(s))\n",
    "\n",
    "# Explanation:\n",
    "'''1.len() it is an inbuilt function in python.\n",
    "2.len() is not zero-indexed so index starts from 1,2,3,......,n.'''"
   ]
  },
  {
   "cell_type": "code",
   "execution_count": 5,
   "id": "167ea4ce-e2d8-4682-8328-352f7685aeca",
   "metadata": {},
   "outputs": [
    {
     "name": "stdin",
     "output_type": "stream",
     "text": [
      "enter the sentence:  welcome to PWSKILLS data science pro course\n"
     ]
    },
    {
     "name": "stdout",
     "output_type": "stream",
     "text": [
      "welcome to pwskills data science pro course\n",
      "the no.of vowels in given sentence 14\n"
     ]
    }
   ],
   "source": [
    "'''2. Create a program that takes a sentence from the user and counts the number\n",
    "of vowels (a, e, i, o, u) in the string.'''\n",
    "\n",
    "sentence = input('enter the sentence: ')\n",
    "string = sentence.lower()\n",
    "print(string)\n",
    "count = 0\n",
    "list = ['a','e','i','o','u']\n",
    "for i in string:\n",
    "    if i in list:\n",
    "        count = count+1\n",
    "print('the no.of vowels in given sentence', count)\n",
    "\n",
    "# Explanation:\n",
    "'''1. lower() it will convert upper letter into letter.\n",
    "   2. count = 0 is an initial count.\n",
    "   3. all the vowels assigned variable name list.\n",
    "   4. for loop it will each char in a string.\n",
    "   5. if condition will check the vowels in a string.\n",
    "   6. the vowels are avialable in a string then it will increase the count by +1.\n",
    "   7. print the no.of vowels in a given senten\n",
    "       \n",
    "        "
   ]
  },
  {
   "cell_type": "code",
   "execution_count": 6,
   "id": "727cca76-5f94-461d-a5a9-5cda99c794a9",
   "metadata": {},
   "outputs": [
    {
     "name": "stdout",
     "output_type": "stream",
     "text": [
      "inamavis\n"
     ]
    },
    {
     "data": {
      "text/plain": [
       "'1. In above string slicing upper limit and lower not mentioned.\\n   2. it means system by default considered 0 to n numbers. \\n   3. but step/jump is -1. so it is jumping in backward direction from i(index) to s(index).'"
      ]
     },
     "execution_count": 6,
     "metadata": {},
     "output_type": "execute_result"
    }
   ],
   "source": [
    "'''3. Given a string, reverse the order of characters using string slicing and print\n",
    "the reversed string.'''\n",
    "s = 'sivamani'\n",
    "# slicing operation\n",
    "a = s[::-1]\n",
    "print(a)\n",
    "\n",
    "# Explanation:\n",
    "'''1. In above string slicing upper limit and lower not mentioned.\n",
    "   2. it means system by default considered 0 to n numbers. \n",
    "   3. but step/jump is -1. so it is jumping in backward direction from i(index) to s(index).'''"
   ]
  },
  {
   "cell_type": "code",
   "execution_count": 7,
   "id": "943f805e-0d0f-4ec3-9d66-b90dca5cd2fc",
   "metadata": {},
   "outputs": [
    {
     "name": "stdin",
     "output_type": "stream",
     "text": [
      " malayalam\n"
     ]
    },
    {
     "name": "stdout",
     "output_type": "stream",
     "text": [
      "the p is palindrome malayalam\n"
     ]
    },
    {
     "data": {
      "text/plain": [
       "'if it is an loop and if the condtion is true in if statement it will print the o/p otherwise it go for else statement'"
      ]
     },
     "execution_count": 7,
     "metadata": {},
     "output_type": "execute_result"
    }
   ],
   "source": [
    "'''4. Write a program that takes a string as input and checks if it is a palindrome\n",
    "(reads the same forwards and backwards).'''\n",
    "\n",
    "p = input()\n",
    "if p == p[::-1]:\n",
    "    print('the p is palindrome', p)\n",
    "else:\n",
    "    print('the p is not palindrome', False)\n",
    "    \n",
    "# Explanation:\n",
    "'''if it is an loop and if the condtion is true in if statement it will print the o/p otherwise it go for else statement'''"
   ]
  },
  {
   "cell_type": "code",
   "execution_count": 8,
   "id": "a556351b-aec4-423c-86b9-1ba0603147fb",
   "metadata": {},
   "outputs": [
    {
     "name": "stdout",
     "output_type": "stream",
     "text": [
      "data science\n"
     ]
    },
    {
     "data": {
      "text/plain": [
       "'1. strip() is a inbuilt python function for removing spaces.'"
      ]
     },
     "execution_count": 8,
     "metadata": {},
     "output_type": "execute_result"
    }
   ],
   "source": [
    "'''Create a program that takes a string as input and removes all the spaces from\n",
    "it. Print the modified string without spaces.'''\n",
    "\n",
    "course = ' data science '\n",
    "course.strip()\n",
    "print(course.strip())\n",
    "\n",
    "\n",
    "# Explanation:\n",
    "'''1. strip() is a inbuilt python function for removing spaces.'''"
   ]
  },
  {
   "cell_type": "code",
   "execution_count": null,
   "id": "90f145d5-d92d-4ba8-b814-f0ddd202fb18",
   "metadata": {},
   "outputs": [],
   "source": []
  }
 ],
 "metadata": {
  "kernelspec": {
   "display_name": "Python 3 (ipykernel)",
   "language": "python",
   "name": "python3"
  },
  "language_info": {
   "codemirror_mode": {
    "name": "ipython",
    "version": 3
   },
   "file_extension": ".py",
   "mimetype": "text/x-python",
   "name": "python",
   "nbconvert_exporter": "python",
   "pygments_lexer": "ipython3",
   "version": "3.10.8"
  }
 },
 "nbformat": 4,
 "nbformat_minor": 5
}
