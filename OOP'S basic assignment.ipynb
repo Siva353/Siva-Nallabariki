{
 "cells": [
  {
   "cell_type": "code",
   "execution_count": 1,
   "id": "2171ef75",
   "metadata": {},
   "outputs": [
    {
     "name": "stdout",
     "output_type": "stream",
     "text": [
      "i am depositing some amount\n",
      "Deposited $500, New balance: $2500\n",
      "None\n"
     ]
    }
   ],
   "source": [
    "'''Problem 1: Bank Account Create a class representing a bank account with attributes like account number, account holder name, and balance.\n",
    "Implement methods to deposit and withdraw money from the account.'''\n",
    "\n",
    "# Create a bank account class\n",
    "class bankaccount:\n",
    "    \n",
    "    def __init__(self, account_no, account_holder_name, balance):\n",
    "        \n",
    "        self.account_no = account_no\n",
    "        self.account_holder_name = account_holder_name\n",
    "        self.balance = balance\n",
    "        \n",
    "    def deposit_amount(self, amount):\n",
    "        print('i am depositing some amount')\n",
    "        if amount > 0: \n",
    "            self.balance += amount\n",
    "            print(f\"Deposited ${amount}, New balance: ${self.balance}\")\n",
    "        else:\n",
    "            print(\"invalid dopsit amount. Amount must be greater than Zero\")\n",
    "    \n",
    "    def withdraw_amount(self, amount):\n",
    "        if amount > self.balance:\n",
    "            raise Exception('you dont have insufficient balance')\n",
    "        elif amount > 0 and amount <= self.balance:\n",
    "            self.balance -= amount\n",
    "            print(f'withdraw ${amount}, Remaining balance: ${self.balance}')\n",
    "        else:\n",
    "            print('invalid withdraw ampount. Amount must be greater than Zero')\n",
    "        \n",
    "    def get_balance(self):\n",
    "        return self.balance\n",
    "    \n",
    "    def account_details(self):\n",
    "        return f'account number: {self.account_no}, account holder name: {self.account_holder_name}, balance: ${self.balance}'\n",
    "    \n",
    "# Create an object to the bankaccount class\n",
    "person1 = bankaccount('12457','sudh',2000)\n",
    "person2 = bankaccount('54778','krish',1000)\n",
    "person3 = bankaccount('32541','siva',500)\n",
    "\n",
    "print(person1.deposit_amount(500))"
   ]
  },
  {
   "cell_type": "code",
   "execution_count": 2,
   "id": "dac4024c",
   "metadata": {},
   "outputs": [
    {
     "name": "stdout",
     "output_type": "stream",
     "text": [
      "withdraw $200, Remaining balance: $300\n"
     ]
    }
   ],
   "source": [
    "person3.withdraw_amount(200)"
   ]
  },
  {
   "cell_type": "code",
   "execution_count": 3,
   "id": "865c182c",
   "metadata": {},
   "outputs": [
    {
     "data": {
      "text/plain": [
       "'54778'"
      ]
     },
     "execution_count": 3,
     "metadata": {},
     "output_type": "execute_result"
    }
   ],
   "source": [
    "person2.account_no"
   ]
  },
  {
   "cell_type": "code",
   "execution_count": 4,
   "id": "3a542da2",
   "metadata": {},
   "outputs": [
    {
     "name": "stdout",
     "output_type": "stream",
     "text": [
      "2500000.0\n"
     ]
    }
   ],
   "source": [
    "'''Problem 2: Employee Management Create a class representing an employee with attributes like employee ID, name, and salary. \n",
    "Implement methods to calculate the yearly bonus and display employee details.'''\n",
    "\n",
    "# Create employee management class\n",
    "class Employee_management:\n",
    "    \n",
    "    def __init__(self, employee_ID, name, salary):\n",
    "        self.employee_id = employee_ID\n",
    "        self.name = name\n",
    "        self.salary = salary\n",
    "        \n",
    "    def cal_yearly_bonus(self,bonus_amount):\n",
    "        if bonus_amount >= 0:\n",
    "            bonus = (bonus_amount/100)*self.salary\n",
    "            return bonus\n",
    "        else:\n",
    "            return 0\n",
    "    \n",
    "    def display_employee_details(self):\n",
    "        print(f\"employee_id: {self.employee_id}, name: {self.name}, salary: ${self.salary}\")\n",
    "        \n",
    "# Create an object to the employee_management class\n",
    "emplyoee1 = Employee_management('10105024','sivamani',25000)\n",
    "employee2 = Employee_management('10105022','sai',20000)\n",
    "employee3 = Employee_management('10105021','vasi',15000)\n",
    "\n",
    "print(emplyoee1.cal_yearly_bonus(10000))  "
   ]
  },
  {
   "cell_type": "code",
   "execution_count": 5,
   "id": "9191c459",
   "metadata": {},
   "outputs": [
    {
     "name": "stdout",
     "output_type": "stream",
     "text": [
      "employee_id: 10105022, name: sai, salary: $20000\n"
     ]
    }
   ],
   "source": [
    "employee2.display_employee_details()"
   ]
  },
  {
   "cell_type": "code",
   "execution_count": 6,
   "id": "3cfa563b",
   "metadata": {},
   "outputs": [],
   "source": [
    "'''Problem 3: Vehicle Rental Create a class representing a vehicle rental system. \n",
    "Implement methods to rent a vehicle, return a vehicle, and display available vehicles.'''\n",
    "\n",
    "class vehiclerentalsystem:\n",
    "    \n",
    "    def __init__(self):\n",
    "        self.available_vehicles = ['4 wheeler','3 wheeler','2 wheeler']\n",
    "        self.rented_vehicles = []\n",
    "        \n",
    "    def rentvehicle(self, vehicle):\n",
    "        if vehicle in self.available_vehicles:\n",
    "            self.available_vehicles.remove(vehicle)\n",
    "            self.rented_vehicles.append(vehicle)\n",
    "            print(f'{vehicle} rented successfully')\n",
    "        else:\n",
    "            print(f'{vehicle} not available for rent')\n",
    "                  \n",
    "    def return_vehicle(self,vehicle):\n",
    "        if vehicle in self.rented_vehicles:\n",
    "            self.rented_vehicles.remove(vehicle)\n",
    "            self.available_vehicles.append(vehicle)\n",
    "            print(f'{vehicle} retunrned successfully')\n",
    "        else:\n",
    "            print(f'{vehicle} not yet retunrned')\n",
    "        \n",
    "    def display_available_vehicles(self):\n",
    "        print('Available vehicles')\n",
    "        for vehicle in self.available_vehicles:\n",
    "            print(vehicle)\n",
    "            \n",
    "# Create an object to the vehiclerentalsystem\n",
    "car = vehiclerentalsystem()\n",
    "bike = vehiclerentalsystem()\n",
    "auto = vehiclerentalsystem()"
   ]
  },
  {
   "cell_type": "code",
   "execution_count": 7,
   "id": "072a5e18",
   "metadata": {},
   "outputs": [
    {
     "data": {
      "text/plain": [
       "['4 wheeler', '3 wheeler', '2 wheeler']"
      ]
     },
     "execution_count": 7,
     "metadata": {},
     "output_type": "execute_result"
    }
   ],
   "source": [
    "car.available_vehicles"
   ]
  },
  {
   "cell_type": "code",
   "execution_count": 8,
   "id": "cb4a5ffe",
   "metadata": {},
   "outputs": [
    {
     "name": "stdout",
     "output_type": "stream",
     "text": [
      "bmw not available for rent\n"
     ]
    }
   ],
   "source": [
    "car.rentvehicle('bmw')"
   ]
  },
  {
   "cell_type": "code",
   "execution_count": 9,
   "id": "df3643a5",
   "metadata": {},
   "outputs": [
    {
     "name": "stdout",
     "output_type": "stream",
     "text": [
      "4 wheeler rented successfully\n"
     ]
    }
   ],
   "source": [
    "car.rentvehicle('4 wheeler')"
   ]
  },
  {
   "cell_type": "code",
   "execution_count": 10,
   "id": "10404123",
   "metadata": {},
   "outputs": [
    {
     "name": "stdout",
     "output_type": "stream",
     "text": [
      "Library Catalog: \n",
      "The Great Gatsby by F. Scott Fitzgerald has been added to the library.\n",
      "To Kill a Mockingbird by Harper Lee has been added to the library.\n",
      "Available books:\n",
      "The Great Gatsby by F. Scott Fitzgerald\n",
      "To Kill a Mockingbird by Harper Lee\n",
      "The Great Gatsby by F. Scott Fitzgerald has been borrowed.\n",
      "Available books:\n",
      "To Kill a Mockingbird by Harper Lee\n",
      "The Great Gatsby by F. Scott Fitzgerald has been returned.\n",
      "Available books:\n",
      "The Great Gatsby by F. Scott Fitzgerald\n",
      "To Kill a Mockingbird by Harper Lee\n"
     ]
    }
   ],
   "source": [
    "'''Problem 4: Library Catalog Create classes representing a library and a book.\n",
    "Implement methods to add books to the library, borrow books, and display available books.'''\n",
    "\n",
    "class Book:\n",
    "    \n",
    "    def __init__(self,title,author):\n",
    "        self.title = title\n",
    "        self.author = author\n",
    "        self.is_available = True\n",
    "        \n",
    "    def borrow(self):\n",
    "        if self.is_available:\n",
    "            self.is_available = False\n",
    "            print(f\"{self.title} by {self.author} has been borrowed.\")\n",
    "        else:\n",
    "            print(f\"{self.title} by {self.author} is not available for borrowing.\")\n",
    "    \n",
    "    def return_book(self):\n",
    "        if not self.is_available:\n",
    "            self.is_available = True\n",
    "            print(f\"{self.title} by {self.author} has been returned.\")\n",
    "        else:\n",
    "            print(f\"{self.title} by {self.author} was not borrowed from this library.\")\n",
    "            \n",
    "class Library:\n",
    "    def __init__(self):\n",
    "        self.books = []\n",
    "\n",
    "    def add_book(self, book):\n",
    "        self.books.append(book)\n",
    "        print(f\"{book.title} by {book.author} has been added to the library.\")\n",
    "\n",
    "    def borrow_book(self, title):\n",
    "        for book in self.books:\n",
    "            if book.title == title:\n",
    "                book.borrow()\n",
    "                return print(f\"{title} is not available in this library.\")\n",
    "\n",
    "    def return_book(self, title):\n",
    "        for book in self.books:\n",
    "            if book.title == title:\n",
    "                book.return_book()\n",
    "                return print(f\"{title} was not borrowed from this library.\")\n",
    "        \n",
    "    def display_available_books(self):\n",
    "        print(\"Available books:\")\n",
    "        for book in self.books:\n",
    "            if book.is_available:\n",
    "                print(f\"{book.title} by {book.author}\")\n",
    "                \n",
    "# Create an object to the Library class\n",
    "library = Library()\n",
    "# Create an object to the Bok class\n",
    "book1 = Book(\"The Great Gatsby\", \"F. Scott Fitzgerald\")\n",
    "book2 = Book(\"To Kill a Mockingbird\", \"Harper Lee\")\n",
    "\n",
    "print(\"Library Catalog: \")\n",
    "\n",
    "library.add_book(book1)\n",
    "library.add_book(book2)\n",
    "library.display_available_books()\n",
    "book1.borrow()\n",
    "library.display_available_books()\n",
    "book1.return_book()\n",
    "library.display_available_books()"
   ]
  },
  {
   "cell_type": "code",
   "execution_count": 11,
   "id": "230a4a28",
   "metadata": {},
   "outputs": [
    {
     "name": "stdout",
     "output_type": "stream",
     "text": [
      "Library Catalog:\n",
      "\n",
      "Borrowing 'The Great Gatsby':\n",
      "You have successfully borrowed 'The Great Gatsby'.\n",
      "\n",
      "Returning 'The Great Gatsby':\n",
      "You have returned 'The Great Gatsby'.\n"
     ]
    },
    {
     "data": {
      "text/plain": [
       "[<__main__.Book at 0x1f1260250a0>,\n",
       " <__main__.Book at 0x1f126025130>,\n",
       " <__main__.Book at 0x1f1260251c0>]"
      ]
     },
     "execution_count": 11,
     "metadata": {},
     "output_type": "execute_result"
    }
   ],
   "source": [
    "class Book:\n",
    "    def __init__(self, title, author, ISBN):\n",
    "        self.title = title\n",
    "        self.author = author\n",
    "        self.ISBN = ISBN\n",
    "        self.available = True\n",
    "\n",
    "class Library:\n",
    "    def __init__(self):\n",
    "        self.books = []\n",
    "\n",
    "    def add_book(self, title, author, ISBN):\n",
    "        book = Book(title, author, ISBN)\n",
    "        self.books.append(book)\n",
    "\n",
    "    def display_available_books(self):\n",
    "        available_books = [book for book in self.books if book.available]\n",
    "        return available_books\n",
    "\n",
    "    def borrow_book(self, ISBN):\n",
    "        for book in self.books:\n",
    "            if book.ISBN == ISBN and book.available:\n",
    "                book.available = False\n",
    "                return f\"You have successfully borrowed '{book.title}'.\"\n",
    "        return \"Book not found or already borrowed.\"\n",
    "\n",
    "    def return_book(self, ISBN):\n",
    "        for book in self.books:\n",
    "            if book.ISBN == ISBN and not book.available:\n",
    "                book.available = True\n",
    "                return f\"You have returned '{book.title}'.\"\n",
    "        return \"Book not found or already returned.\"\n",
    "\n",
    "# Example usage:\n",
    "library = Library()\n",
    "\n",
    "library.add_book(\"The Great Gatsby\", \"F. Scott Fitzgerald\", \"978-0743273565\")\n",
    "library.add_book(\"To Kill a Mockingbird\", \"Harper Lee\", \"978-0061120084\")\n",
    "library.add_book(\"1984\", \"George Orwell\", \"978-0451524935\")\n",
    "\n",
    "print(\"Library Catalog:\")\n",
    "library.display_available_books()\n",
    "\n",
    "print(\"\\nBorrowing 'The Great Gatsby':\")\n",
    "print(library.borrow_book(\"978-0743273565\"))\n",
    "library.display_available_books()\n",
    "\n",
    "print(\"\\nReturning 'The Great Gatsby':\")\n",
    "print(library.return_book(\"978-0743273565\"))\n",
    "library.display_available_books()"
   ]
  },
  {
   "cell_type": "code",
   "execution_count": 12,
   "id": "f8c5161b",
   "metadata": {},
   "outputs": [
    {
     "name": "stdout",
     "output_type": "stream",
     "text": [
      "Laptop has been added to the inventory\n",
      "Phone has been added to the inventory\n",
      "Headphones has been added to the inventory\n",
      "Quantity for Laptop (ID: 1) updated to 5.\n",
      "Quantity for Phone (ID: 2) updated to 4.\n",
      "Quantity for Headphones (ID: 3) updated to 3.\n",
      "Available products in inventory\n",
      "ID: 1, Name: Laptop, Quantity: 5\n",
      "ID: 2, Name: Phone, Quantity: 4\n",
      "ID: 3, Name: Headphones, Quantity: 3\n"
     ]
    }
   ],
   "source": [
    "'''Problem 5: Product Inventory Create classes representing a product and an inventory system. \n",
    "Implement methods to add products to the inventory, update product quantity, and display available products.'''\n",
    "\n",
    "# Create a classes for product and inventory system\n",
    "class Product:\n",
    "    \n",
    "    def __init__(self,product_id,name,price,quantity):\n",
    "        self.product_id = product_id\n",
    "        self.name = name\n",
    "        self.price = price\n",
    "        self.quantity = quantity\n",
    "\n",
    "class Inventory_system:\n",
    "    \n",
    "    def __init__(self):\n",
    "        self.products = {}\n",
    "        \n",
    "    def add_products(self,product):\n",
    "        if product.product_id in self.products:\n",
    "            print('product already exists in inventory')\n",
    "        else:\n",
    "            self.products[product.product_id] = product\n",
    "            print(f\"{product.name} has been added to the inventory\")\n",
    "            \n",
    "    def update_quantity(self,product_id,new_quantity):\n",
    "        if product_id in self.products:\n",
    "            product = self.products[product_id]\n",
    "            product.quantity = new_quantity\n",
    "            print(f\"Quantity for {product.name} (ID: {product_id}) updated to {new_quantity}.\")\n",
    "        else:\n",
    "            print(f\"Product with ID {product_id} does not exist in the inventory.\")\n",
    "                \n",
    "    def display_available_products(self):\n",
    "        if not self.products:\n",
    "            print(\"Inventory is empty\")\n",
    "        else:\n",
    "            print('Available products in inventory')\n",
    "            for product in self.products.values():\n",
    "                print(f\"ID: {product.product_id}, Name: {product.name}, Quantity: {product.quantity}\")\n",
    "                \n",
    "# Create some products\n",
    "product1 = Product(1, \"Laptop\", 1000, 10)\n",
    "product2 = Product(2, \"Phone\", 500, 20)\n",
    "product3 = Product(3, \"Headphones\", 50, 30)\n",
    "\n",
    "# create object to inventory class\n",
    "inventory = Inventory_system()\n",
    "\n",
    "# Add products to the inventory\n",
    "inventory.add_products(product1)\n",
    "inventory.add_products(product2)\n",
    "inventory.add_products(product3)\n",
    "\n",
    "# Update product quantities\n",
    "inventory.update_quantity(1,5)\n",
    "inventory.update_quantity(2,4)\n",
    "inventory.update_quantity(3,3)\n",
    "\n",
    "# Display available products\n",
    "inventory.display_available_products()"
   ]
  },
  {
   "cell_type": "code",
   "execution_count": 13,
   "id": "f73498cf",
   "metadata": {},
   "outputs": [
    {
     "name": "stdout",
     "output_type": "stream",
     "text": [
      "Laptop has been added to the inventory.\n",
      "Phone has been added to the inventory.\n",
      "Headphones has been added to the inventory.\n",
      "Quantity for Laptop (ID: 1) updated to 5.\n",
      "Quantity for Phone (ID: 2) updated to 4.\n",
      "Quantity for Headphones (ID: 3) updated to 3.\n",
      "Available products in inventory:\n",
      "Product ID: 1, Name: Laptop, Price: 1000, Quantity: 5.\n",
      "Product ID: 2, Name: Phone, Price: 500, Quantity: 4.\n",
      "Product ID: 3, Name: Headphones, Price: 50, Quantity: 3.\n"
     ]
    }
   ],
   "source": [
    "class Product:\n",
    "    def __init__(self, product_id, name, price, quantity):\n",
    "        self.product_id = product_id\n",
    "        self.name = name\n",
    "        self.price = price\n",
    "        self.quantity = quantity\n",
    "\n",
    "class Inventory_system:\n",
    "    def __init__(self):\n",
    "        self.products = {}\n",
    "\n",
    "    def add_products(self, product):\n",
    "        if product.product_id in self.products:\n",
    "            print('Product already exists in inventory.')\n",
    "        else:\n",
    "            self.products[product.product_id] = product\n",
    "            print(f\"{product.name} has been added to the inventory.\")\n",
    "\n",
    "    def update_quantity(self, product_id, new_quantity):\n",
    "        if product_id in self.products:\n",
    "            product = self.products[product_id]\n",
    "            product.quantity = new_quantity\n",
    "            print(f\"Quantity for {product.name} (ID: {product_id}) updated to {new_quantity}.\")\n",
    "        else:\n",
    "            print(f\"Product with ID {product_id} does not exist in the inventory.\")\n",
    "\n",
    "    def display_available_products(self):\n",
    "        if not self.products:\n",
    "            print(\"Inventory is empty.\")\n",
    "        else:\n",
    "            print('Available products in inventory:')\n",
    "            for product in self.products.values():\n",
    "                print(f\"Product ID: {product.product_id}, Name: {product.name}, Price: {product.price}, Quantity: {product.quantity}.\")\n",
    "\n",
    "# Create some products\n",
    "product1 = Product(1, \"Laptop\", 1000, 10)\n",
    "product2 = Product(2, \"Phone\", 500, 20)\n",
    "product3 = Product(3, \"Headphones\", 50, 30)\n",
    "\n",
    "# create object to inventory class\n",
    "inventory = Inventory_system()\n",
    "\n",
    "# Add products to the inventory\n",
    "inventory.add_products(product1)\n",
    "inventory.add_products(product2)\n",
    "inventory.add_products(product3)\n",
    "\n",
    "# Update product quantities\n",
    "inventory.update_quantity(1, 5)\n",
    "inventory.update_quantity(2, 4)\n",
    "inventory.update_quantity(3, 3)\n",
    "\n",
    "# Display available products\n",
    "inventory.display_available_products()"
   ]
  },
  {
   "cell_type": "code",
   "execution_count": 14,
   "id": "d47ffc1f",
   "metadata": {},
   "outputs": [
    {
     "name": "stdout",
     "output_type": "stream",
     "text": [
      "Recatngle area: 12\n",
      "Recatngle perimeter: 14\n",
      "triangle area: 10.0\n",
      "triangle area: 12\n"
     ]
    }
   ],
   "source": [
    "'''Problem 6: Shape Calculation Create a class representing a shape with attributes like length, width, and height.\n",
    "Implement methods to calculate the area and perimeter of the shape.'''\n",
    "\n",
    "class Shape:\n",
    "    \n",
    "    def __init__(self,length,width,height):\n",
    "        self.length = length\n",
    "        self.width = width\n",
    "        self.height = height\n",
    "        \n",
    "    def cal_area(self):\n",
    "        pass\n",
    "    \n",
    "    def cal_perimeter(self):\n",
    "        pass\n",
    "        \n",
    "class Rectangle(Shape):\n",
    "    \n",
    "    def cal_area(self):\n",
    "        return self.length * self.width\n",
    "    \n",
    "    def cal_perimeter(self):\n",
    "        return 2 * (self.length + self.width)\n",
    "    \n",
    "class Triangle(Shape):\n",
    "    \n",
    "    def cal_area(self):\n",
    "        return 0.5 * (self.width * self.height)\n",
    "    \n",
    "    def cal_perimeter(self):\n",
    "        return self.length + self.width + self.height\n",
    "\n",
    "# Create an object to the rectangle class\n",
    "r = Rectangle(3,4,2)\n",
    "print(f\"Recatngle area: {r.cal_area()}\")\n",
    "print(f\"Recatngle perimeter: {r.cal_perimeter()}\")\n",
    "\n",
    "# Create an object to the triangle class\n",
    "t = Triangle(3,4,5)\n",
    "print(f\"triangle area: {t.cal_area()}\")\n",
    "print(f\"triangle area: {t.cal_perimeter()}\")"
   ]
  },
  {
   "cell_type": "code",
   "execution_count": 15,
   "id": "3d07d1d8",
   "metadata": {},
   "outputs": [
    {
     "name": "stdout",
     "output_type": "stream",
     "text": [
      "student1 average grades: \n",
      "84.0\n",
      "\n",
      "student1 details: \n",
      "Student_ID : 1\n",
      "Student_name : rahul\n",
      "Student_grades : [97, 80, 75]\n",
      "Average : 84.0\n",
      "\n",
      "student2 details: \n",
      "Student_ID : 2\n",
      "Student_name : rohit\n",
      "Student_grades : [78, 92, 84]\n",
      "Average : 84.66666666666667\n",
      "\n",
      "student3 details: \n",
      "Student_ID : 2\n",
      "Student_name : kohli\n",
      "Student_grades : [96, 88, 84]\n",
      "Average : 89.33333333333333\n"
     ]
    }
   ],
   "source": [
    "'''Problem 7: Student Management Create a class representing a student with attributes like student ID, name, and grades. \n",
    "Implement methods to calculate the average grade and display student details.'''\n",
    "\n",
    "# Create a class for student\n",
    "class Student:\n",
    "    def __init__(self,student_id,name,grades):\n",
    "        self.student_id = student_id\n",
    "        self.name = name\n",
    "        self.grades = grades\n",
    "        \n",
    "    def cal_average_grades(self):\n",
    "        return (sum(self.grades)/len(self.grades))\n",
    "    \n",
    "    def display_student_details(self):\n",
    "        print(f\"Student_ID : {self.student_id}\")\n",
    "        print(f\"Student_name : {self.name}\")\n",
    "        print(f\"Student_grades : {self.grades}\")\n",
    "        print(f\"Average : {self.cal_average_grades()}\")\n",
    "\n",
    "# Create object to class student\n",
    "student1 = Student(1,'rahul',[97,80,75])\n",
    "student2 = Student(2,'rohit',[78,92,84])\n",
    "student3 = Student(2,'kohli',[96,88,84])\n",
    "\n",
    "# Access student1 all details\n",
    "student1.student_id\n",
    "student1.name\n",
    "student1.grades\n",
    "\n",
    "# Access student1 average grades\n",
    "print(\"student1 average grades: \")\n",
    "print(student1.cal_average_grades())\n",
    "\n",
    "# Accesss student1 details\n",
    "print(\"\\nstudent1 details: \")\n",
    "student1.display_student_details()\n",
    "\n",
    "# Accesss student2 details\n",
    "print(\"\\nstudent2 details: \")\n",
    "student2.display_student_details()\n",
    "\n",
    "# Accesss student3 details\n",
    "print(\"\\nstudent3 details: \")\n",
    "student3.display_student_details()"
   ]
  },
  {
   "cell_type": "code",
   "execution_count": 16,
   "id": "f9ba9305",
   "metadata": {},
   "outputs": [
    {
     "name": "stdout",
     "output_type": "stream",
     "text": [
      "Error sending email: [Errno 11001] getaddrinfo failed\n",
      "From: sender@example.com\n",
      "To: recipient@example.com\n",
      "Subject: Test Email\n",
      "Body: This is a test email.\n",
      "\n"
     ]
    }
   ],
   "source": [
    "'''Problem 8: Email Management Create a class representing an email with attributes like sender, recipient, and subject. \n",
    "Implement methods to send an email and display email details.'''\n",
    "\n",
    "from email.message import EmailMessage\n",
    "import smtplib # SMTP : simple mail transfer protocol\n",
    "\n",
    "# Create a class for email.\n",
    "class Email:\n",
    "    def __init__(self,sender,recipient,subject):\n",
    "        self.email = EmailMessage()\n",
    "        self.email['From'] = sender\n",
    "        self.email['To'] = recipient\n",
    "        self.email['subject'] = subject\n",
    "        \n",
    "    def send_email(self,body,smtp_server,smtp_port,sender_email,sender_password):\n",
    "        self.email.set_content(body) # code to send mail\n",
    "        \n",
    "        # Create an SMTP connection and send the mail\n",
    "        try:\n",
    "            server = smtplib.SMTP(smtp_server, smtp_port)\n",
    "            server.starttls()\n",
    "            server.login(sender_email, sender_password)\n",
    "            server.send_message(self.email)\n",
    "            server.quit()\n",
    "            print(\"Email sent succesfully\")\n",
    "        except Exception as e:\n",
    "            print(f\"Error sending email: {str(e)}\")\n",
    "                \n",
    "    def display_email_details(self):\n",
    "        print(f\"From: {self.email['From']}\")\n",
    "        print(f\"To: {self.email['To']}\")\n",
    "        print(f\"Subject: {self.email['Subject']}\")\n",
    "        print(f\"Body: {self.email.get_content()}\")\n",
    "        \n",
    "# Set your SMTP server details here\n",
    "smtp_server = 'smtp.example.com'\n",
    "smtp_port = 587\n",
    "sender_email = 'your_email@example.com'\n",
    "sender_password = 'your_password'\n",
    "\n",
    "email = Email('sender@example.com', 'recipient@example.com', 'Test Email')\n",
    "email.send_email('This is a test email.',smtp_server,smtp_port,sender_email,sender_password)\n",
    "email.display_email_details()   "
   ]
  },
  {
   "cell_type": "code",
   "execution_count": 17,
   "id": "38dc9a20",
   "metadata": {},
   "outputs": [
    {
     "name": "stdout",
     "output_type": "stream",
     "text": [
      "Hello, this is my first post.\n",
      "Welcome to my profile!\n",
      "No matching posts found for 'testing'.\n",
      "No matching posts found for 'welcome'.\n"
     ]
    }
   ],
   "source": [
    "'''Problem 9: Social Media Profile Create a class representing a social media profile with attributes like username and posts.\n",
    "Implement methods to add posts, display posts, and search for posts by keyword.'''\n",
    "\n",
    "class SocialMediaProfile:\n",
    "    def __init__(self, username):\n",
    "        self.username = username\n",
    "        self.posts = []\n",
    "        \n",
    "    def add_posts(self,post_content):\n",
    "        post = {'username': self.username,\n",
    "                'content' : post_content}\n",
    "        self.posts.append(post)\n",
    "        \n",
    "    def display_posts(self):\n",
    "        for post in self.posts:\n",
    "            print(post['content'])\n",
    "            \n",
    "    def search_posts(self,keyword):\n",
    "        try:\n",
    "            matching_posts = [post for post in self.posts if keyword in post['content']]\n",
    "            if matching_posts:\n",
    "                print(f\"posts by {self.username} containg '{keyword}': \")\n",
    "                for post in mathing_posts:\n",
    "                    print(post['content'])\n",
    "            else:\n",
    "                print(f\"No matching posts found for '{keyword}'.\")\n",
    "        except TypeError:\n",
    "            print(\"Keyword must be a string.\")\n",
    "\n",
    "profile1 = SocialMediaProfile(\"user1\")\n",
    "profile2 = SocialMediaProfile(\"user2\")\n",
    "\n",
    "profile1.add_posts(\"Hello, this is my first post.\")\n",
    "profile2.add_posts(\"Welcome to my profile!\")\n",
    "\n",
    "profile1.display_posts()\n",
    "profile2.display_posts()\n",
    "\n",
    "profile1.search_posts(\"testing\")\n",
    "profile2.search_posts(\"welcome\")"
   ]
  },
  {
   "cell_type": "code",
   "execution_count": 18,
   "id": "9ddd8316",
   "metadata": {},
   "outputs": [
    {
     "data": {
      "text/plain": [
       "[{'username': 'user1', 'content': 'Hello, this is my first post.'}]"
      ]
     },
     "execution_count": 18,
     "metadata": {},
     "output_type": "execute_result"
    }
   ],
   "source": [
    "profile1.posts"
   ]
  },
  {
   "cell_type": "code",
   "execution_count": 19,
   "id": "0dc2366f",
   "metadata": {},
   "outputs": [
    {
     "name": "stdout",
     "output_type": "stream",
     "text": [
      "Pending tasks:\n",
      "Task: Finish project, Due date: 2023-10-20\n",
      "Task: Buy groceries, Due date: 2023-10-25\n",
      "Task: Call the client, Due date: 2023-10-22\n",
      "Task 'Buy groceries' marked as completed.\n",
      "Pending tasks:\n",
      "Task: Finish project, Due date: 2023-10-20\n",
      "Task: Call the client, Due date: 2023-10-22\n"
     ]
    }
   ],
   "source": [
    "'''Problem 10: ToDo List Create a class representing a ToDo list with attributes like tasks and due dates. \n",
    "Implement methods to add tasks, mark tasks as completed, and display pending tasks.'''\n",
    "\n",
    "class ToDoList:\n",
    "    def __init__(self):\n",
    "        self.tasks = {}\n",
    "\n",
    "    def add_task(self, task, due_date):\n",
    "        self.tasks[task] = due_date\n",
    "\n",
    "    def mark_task_completed(self, task):\n",
    "        if task in self.tasks:\n",
    "            del self.tasks[task]\n",
    "            print(f\"Task '{task}' marked as completed.\")\n",
    "        else:\n",
    "            print(f\"Task '{task}' not found in the ToDo List.\")\n",
    "\n",
    "    def display_pending_tasks(self):\n",
    "        if not self.tasks:\n",
    "            print(\"No pending tasks\")\n",
    "        else:\n",
    "            print(\"Pending tasks:\")\n",
    "            for task, due_date in self.tasks.items():\n",
    "                print(f\"Task: {task}, Due date: {due_date}\")\n",
    "\n",
    "# Create an object for the ToDoList\n",
    "todo_list = ToDoList()\n",
    "\n",
    "todo_list.add_task(\"Finish project\", \"2023-10-20\")\n",
    "todo_list.add_task(\"Buy groceries\", \"2023-10-25\")\n",
    "todo_list.add_task(\"Call the client\", \"2023-10-22\")\n",
    "\n",
    "todo_list.display_pending_tasks()\n",
    "\n",
    "todo_list.mark_task_completed(\"Buy groceries\")\n",
    "\n",
    "todo_list.display_pending_tasks()"
   ]
  },
  {
   "cell_type": "code",
   "execution_count": null,
   "id": "2afeb472",
   "metadata": {},
   "outputs": [],
   "source": []
  }
 ],
 "metadata": {
  "kernelspec": {
   "display_name": "Python 3 (ipykernel)",
   "language": "python",
   "name": "python3"
  },
  "language_info": {
   "codemirror_mode": {
    "name": "ipython",
    "version": 3
   },
   "file_extension": ".py",
   "mimetype": "text/x-python",
   "name": "python",
   "nbconvert_exporter": "python",
   "pygments_lexer": "ipython3",
   "version": "3.9.13"
  }
 },
 "nbformat": 4,
 "nbformat_minor": 5
}
