{
 "cells": [
  {
   "cell_type": "code",
   "execution_count": 1,
   "id": "079ebdb0",
   "metadata": {},
   "outputs": [
    {
     "name": "stdout",
     "output_type": "stream",
     "text": [
      "123456789"
     ]
    }
   ],
   "source": [
    "# Basic level\n",
    "\n",
    "# 1.Write a Python program to print the numbers from 1 to 10 using a `for` loop.\n",
    "for i in range(1,10):\n",
    "    print(i,end='')"
   ]
  },
  {
   "cell_type": "code",
   "execution_count": 2,
   "id": "4bbd882a",
   "metadata": {},
   "outputs": [
    {
     "name": "stdout",
     "output_type": "stream",
     "text": [
      "10\n"
     ]
    }
   ],
   "source": [
    "# 2. Create a program that calculates the sum of all numbers in a list using a `for` loop.\n",
    "\n",
    "l = [1,2,3,4]\n",
    "sum_num = 0\n",
    "for i in l:\n",
    "    sum_num += i\n",
    "print(sum_num)\n",
    "    \n",
    "    "
   ]
  },
  {
   "cell_type": "code",
   "execution_count": 3,
   "id": "58fe30bd",
   "metadata": {},
   "outputs": [
    {
     "name": "stdout",
     "output_type": "stream",
     "text": [
      "original string siva\n",
      "reversed string avis\n"
     ]
    }
   ],
   "source": [
    "# 3. Write a program to print the characters of a string in reverse order using a `for` loop.\n",
    "\n",
    "s = 'siva'\n",
    "s1 = ''\n",
    "for i in reversed(s):\n",
    "    s1 = s1+i\n",
    "print('original string',s)\n",
    "print('reversed string',s1)"
   ]
  },
  {
   "cell_type": "code",
   "execution_count": 4,
   "id": "a164ebb0",
   "metadata": {},
   "outputs": [
    {
     "data": {
      "text/plain": [
       "24"
      ]
     },
     "execution_count": 4,
     "metadata": {},
     "output_type": "execute_result"
    }
   ],
   "source": [
    "# 4.Develop a program that finds the factorial of a given number using a `for` loop.\n",
    "\n",
    "def factorial(n):\n",
    "    if n == 0:\n",
    "        return 1\n",
    "    else:\n",
    "        return n*factorial(n-1)\n",
    "\n",
    "factorial(4)"
   ]
  },
  {
   "cell_type": "code",
   "execution_count": 5,
   "id": "3e043287",
   "metadata": {},
   "outputs": [
    {
     "data": {
      "text/plain": [
       "24"
      ]
     },
     "execution_count": 5,
     "metadata": {},
     "output_type": "execute_result"
    }
   ],
   "source": [
    "# By using for loop\n",
    "\n",
    "def fact(n):\n",
    "    a = 1\n",
    "    for i in range(1,n+1):\n",
    "        a = a*i\n",
    "    return a\n",
    "\n",
    "fact(4)"
   ]
  },
  {
   "cell_type": "code",
   "execution_count": 6,
   "id": "90a93783",
   "metadata": {},
   "outputs": [
    {
     "name": "stdout",
     "output_type": "stream",
     "text": [
      "enter a number:5\n",
      "5\n",
      "10\n",
      "15\n",
      "20\n",
      "25\n",
      "30\n",
      "35\n",
      "40\n",
      "45\n",
      "50\n"
     ]
    }
   ],
   "source": [
    "# 5. Create a program to print the multiplication table of a given number using a `for` loop.\n",
    "\n",
    "number = int(input('enter a number:'))\n",
    "\n",
    "for i in range(1,11):\n",
    "    result = number*i\n",
    "    print(result)"
   ]
  },
  {
   "cell_type": "code",
   "execution_count": 7,
   "id": "201617e9",
   "metadata": {},
   "outputs": [
    {
     "name": "stdout",
     "output_type": "stream",
     "text": [
      "no.of even num 2\n",
      "no.of odd num 3\n"
     ]
    }
   ],
   "source": [
    "# 6. Write a program that counts the number of even and odd numbers in a list using a `for` loop.\n",
    "\n",
    "l = [1,2,3,4,5]\n",
    "even_count = 0\n",
    "odd_count = 0\n",
    "for i in l:\n",
    "    if i%2 == 0:\n",
    "        even_count += 1\n",
    "    else:\n",
    "        odd_count += 1\n",
    "        \n",
    "print('no.of even num', even_count)\n",
    "print('no.of odd num', odd_count)"
   ]
  },
  {
   "cell_type": "code",
   "execution_count": 8,
   "id": "e1d6e6cc",
   "metadata": {},
   "outputs": [
    {
     "name": "stdout",
     "output_type": "stream",
     "text": [
      "[1, 4, 9, 16]\n"
     ]
    }
   ],
   "source": [
    "# 7. Develop a program that prints the squares of numbers from 1 to 5 using a `for` loop.\n",
    "\n",
    "l = []\n",
    "for i in range(1,5):\n",
    "    l.append(i**2)\n",
    "print(l)"
   ]
  },
  {
   "cell_type": "code",
   "execution_count": 9,
   "id": "f1738807",
   "metadata": {},
   "outputs": [
    {
     "name": "stdout",
     "output_type": "stream",
     "text": [
      "enter string: pw skills\n",
      "9\n"
     ]
    }
   ],
   "source": [
    "# 8. Create a program to find the length of a string without using the `len()` function.\n",
    "\n",
    "s = input('enter string: ')\n",
    "count = 0\n",
    "for i in s:\n",
    "    count += 1\n",
    "print(count)"
   ]
  },
  {
   "cell_type": "code",
   "execution_count": 10,
   "id": "6091e301",
   "metadata": {},
   "outputs": [
    {
     "data": {
      "text/plain": [
       "9"
      ]
     },
     "execution_count": 10,
     "metadata": {},
     "output_type": "execute_result"
    }
   ],
   "source": [
    "s = 'pw skills'\n",
    "len(s)"
   ]
  },
  {
   "cell_type": "code",
   "execution_count": 11,
   "id": "39854bf8",
   "metadata": {},
   "outputs": [
    {
     "name": "stdout",
     "output_type": "stream",
     "text": [
      "Average 3.0\n"
     ]
    }
   ],
   "source": [
    "# 9. Write a program that calculates the average of a list of numbers using a `for` loop.\n",
    "\n",
    "l = [1,2,3,4,5]\n",
    "total_sum = 0\n",
    "total_num = 0\n",
    "for i in l: \n",
    "    total_sum += i # Iterate through the list using a for loop\n",
    "    total_num += 1 # Increment the total number\n",
    "    \n",
    "# Cal average\n",
    "if total_num == 0:\n",
    "    average = 0\n",
    "else:\n",
    "    average = total_sum/total_num\n",
    "    \n",
    "print('Average',average)\n",
    "    "
   ]
  },
  {
   "cell_type": "code",
   "execution_count": 12,
   "id": "00ea2ed1",
   "metadata": {},
   "outputs": [
    {
     "name": "stdout",
     "output_type": "stream",
     "text": [
      "[0, 1, 1, 2, 3, 5, 8, 13, 21, 34]\n"
     ]
    }
   ],
   "source": [
    "# 10. Develop a program that prints the first `n` Fibonacci numbers using a `for` loop.\n",
    "\n",
    "# Fibonacci number formla F(n) = F(n-1) + F(n-2)\n",
    "\n",
    "# Initialize the list with the first two Fibonacci numbers\n",
    "f = [0, 1]\n",
    "\n",
    "# Calculate and append the next 8 Fibonacci numbers\n",
    "for i in range(2, 10):\n",
    "    next_fibonacci = f[i - 1] + f[i - 2]\n",
    "    f.append(next_fibonacci)\n",
    "\n",
    "print(f)\n"
   ]
  },
  {
   "cell_type": "code",
   "execution_count": 13,
   "id": "7e0ee3c1",
   "metadata": {},
   "outputs": [
    {
     "name": "stdout",
     "output_type": "stream",
     "text": [
      "The list contains duplicates\n"
     ]
    }
   ],
   "source": [
    "'''Intermediate level'''\n",
    "# 11. Write a program to check if a given list contains any duplicates using a `for` loop.\n",
    "\n",
    "l = [1,2,4,5,1,2,5,3]\n",
    "def list_duplicates(l):\n",
    "    s = set()\n",
    "    for i in l:\n",
    "        if i in s:\n",
    "            return True\n",
    "        s.add(i)\n",
    "    return False\n",
    "\n",
    "if list_duplicates(l):\n",
    "    print('The list contains duplicates')\n",
    "else:\n",
    "    print('The list does contain duplicates')\n",
    "    \n",
    "\n"
   ]
  },
  {
   "cell_type": "code",
   "execution_count": 14,
   "id": "33e71621",
   "metadata": {},
   "outputs": [
    {
     "name": "stdout",
     "output_type": "stream",
     "text": [
      "[2, 3, 5, 7, 11, 13, 17, 19, 23, 29, 31, 37, 41, 43, 47]\n"
     ]
    }
   ],
   "source": [
    "# 12. 12. Create a program that prints the prime numbers in a given range using a `for` loop.\n",
    "'''Prime Number: The whole number greater then 1.\n",
    "And whose only factors are 1 and itself.'''\n",
    "\n",
    "l1 = []  # Initialize an empty list to store prime numbers\n",
    "\n",
    "# Loop through numbers from 2 to 49 (inclusive)\n",
    "for i in range(2, 50):\n",
    "    is_prime = True  # Assume i is prime initially\n",
    "\n",
    "    # Nested loop to check for divisors from 2 to i\n",
    "    for j in range(2, i):\n",
    "        if i % j == 0:\n",
    "            is_prime = False  # If i is divisible by any number in this range, it's not prime\n",
    "            break  # Exit the inner loop early since we already know it's not prime\n",
    "\n",
    "    if is_prime:\n",
    "        l1.append(i)  # If is_prime is still True, i is a prime number, so add it to the list\n",
    "\n",
    "print(l1)  # Print the list of prime numbers"
   ]
  },
  {
   "cell_type": "code",
   "execution_count": 15,
   "id": "f3b62651",
   "metadata": {},
   "outputs": [
    {
     "name": "stdout",
     "output_type": "stream",
     "text": [
      "enter the string:pw skills\n",
      "The no.of in a given string 1\n"
     ]
    }
   ],
   "source": [
    "# 13. Develop a program that counts the number of vowels in a string using a `for` loop.\n",
    "\n",
    "s = input('enter the string:')\n",
    "string = s.lower()\n",
    "count = 0\n",
    "l = ['a','e','i','o','u']\n",
    "for i in string:\n",
    "    if i in l:\n",
    "        count += 1\n",
    "print('The no.of in a given string',count)"
   ]
  },
  {
   "cell_type": "code",
   "execution_count": 16,
   "id": "d1f94be7",
   "metadata": {},
   "outputs": [
    {
     "name": "stdout",
     "output_type": "stream",
     "text": [
      "The maximum element in the 2D list is: 9\n"
     ]
    }
   ],
   "source": [
    "# 14. Write a program to find the maximum element in a 2D list using a nested `for` loop.\n",
    "\n",
    "'''\n",
    "A 2D list, also known as a two-dimensional list, \n",
    "is a list of lists in Python,\n",
    "where each element of the outer list is itself a list. \n",
    "This creates a grid or matrix-like structure with rows and columns.'''\n",
    "\n",
    "'''Float('inf'):- it represents the +ve infinity.\n",
    "it is a special floating point value.\n",
    "and that is greater than any finite number.'''\n",
    "\n",
    "\n",
    "def find_max_in_2D_list(matrix):\n",
    "    # Initialize max_element with the smallest possible value\n",
    "    max_element = float('-inf')\n",
    "    # Iterate through the rows of matrix\n",
    "    for row in matrix:\n",
    "        # Iterate through the elements in each row\n",
    "        for element in row:\n",
    "            if element > max_element:\n",
    "                max_element = element\n",
    "                \n",
    "    return max_element\n",
    "\n",
    "matrix = [\n",
    "    [1, 2, 3],\n",
    "    [4, 5, 6],\n",
    "    [7, 8, 9]\n",
    "]\n",
    "\n",
    "max_value = find_max_in_2D_list(matrix)\n",
    "print(\"The maximum element in the 2D list is:\", max_value)\n",
    "    \n"
   ]
  },
  {
   "cell_type": "code",
   "execution_count": 17,
   "id": "d1e91077",
   "metadata": {},
   "outputs": [
    {
     "name": "stdout",
     "output_type": "stream",
     "text": [
      "The maximum element in the 2D list is: 9\n"
     ]
    }
   ],
   "source": [
    "def find_max_in_2D_list(matrix):\n",
    "    # Initialize max_element with the smallest possible value\n",
    "    max_element = 0\n",
    "    # Iterate through the rows of matrix\n",
    "    for row in matrix:\n",
    "        # Iterate through the elements in each row\n",
    "        for element in row:\n",
    "            if element > max_element:\n",
    "                max_element = element\n",
    "                \n",
    "    return max_element\n",
    "\n",
    "matrix = [\n",
    "    [1, 2, 3],\n",
    "    [4, 5, 6],\n",
    "    [7, 8, 9]\n",
    "]\n",
    "\n",
    "max_value = find_max_in_2D_list(matrix)\n",
    "print(\"The maximum element in the 2D list is:\", max_value)\n"
   ]
  },
  {
   "cell_type": "code",
   "execution_count": 18,
   "id": "44430ece",
   "metadata": {},
   "outputs": [
    {
     "name": "stdout",
     "output_type": "stream",
     "text": [
      "original list [1, 2, 3, 4, 5, 6]\n",
      "list after removing all occurence of 4 : [1, 2, 3, 5, 6]\n"
     ]
    }
   ],
   "source": [
    "'''15. Create a program that \n",
    "removes all occurrences of a specific element\n",
    "from a list using a `for` loop.'''\n",
    "\n",
    "def remove_all_occurence(my_list,remove_element):\n",
    "    l1 = []\n",
    "    for i in my_list:\n",
    "        if i != remove_element:\n",
    "            l1.append(i)\n",
    "    return l1\n",
    "\n",
    "my_list = [1,2,3,4,5,6]\n",
    "remove_element = 4\n",
    "\n",
    "new_list = remove_all_occurence(my_list,remove_element)\n",
    "\n",
    "print('original list', my_list)\n",
    "\n",
    "print('list after removing all occurence of',remove_element, ':', new_list)\n"
   ]
  },
  {
   "cell_type": "code",
   "execution_count": 19,
   "id": "3ec49638",
   "metadata": {},
   "outputs": [
    {
     "name": "stdout",
     "output_type": "stream",
     "text": [
      "original list [1, 2, 3, 4, 5, 6]\n",
      "list after removing all occurence of 4 : [1, 2, 3, 5, 6]\n"
     ]
    }
   ],
   "source": [
    "def remove_all_occurence(my_list,remove_element):\n",
    "    l1 = []\n",
    "    for i in my_list:\n",
    "        if i != remove_element:\n",
    "            l1.append(i)\n",
    "    return l1\n",
    "\n",
    "my_list = [1,2,3,4,5,6]\n",
    "remove_element = 4\n",
    "\n",
    "new_list = remove_all_occurence(my_list,remove_element)\n",
    "\n",
    "print('original list', my_list)\n",
    "\n",
    "print('list after removing all occurence of',remove_element, ':', new_list)"
   ]
  },
  {
   "cell_type": "code",
   "execution_count": 20,
   "id": "67b32439",
   "metadata": {},
   "outputs": [
    {
     "name": "stdout",
     "output_type": "stream",
     "text": [
      "multiplication table for 1\n",
      "1 x 1 = 1\n",
      "1 x 2 = 2\n",
      "1 x 3 = 3\n",
      "1 x 4 = 4\n",
      "1 x 5 = 5\n",
      "1 x 6 = 6\n",
      "1 x 7 = 7\n",
      "1 x 8 = 8\n",
      "1 x 9 = 9\n",
      "1 x 10 = 10\n",
      "\n",
      "multiplication table for 2\n",
      "2 x 1 = 2\n",
      "2 x 2 = 4\n",
      "2 x 3 = 6\n",
      "2 x 4 = 8\n",
      "2 x 5 = 10\n",
      "2 x 6 = 12\n",
      "2 x 7 = 14\n",
      "2 x 8 = 16\n",
      "2 x 9 = 18\n",
      "2 x 10 = 20\n",
      "\n",
      "multiplication table for 3\n",
      "3 x 1 = 3\n",
      "3 x 2 = 6\n",
      "3 x 3 = 9\n",
      "3 x 4 = 12\n",
      "3 x 5 = 15\n",
      "3 x 6 = 18\n",
      "3 x 7 = 21\n",
      "3 x 8 = 24\n",
      "3 x 9 = 27\n",
      "3 x 10 = 30\n",
      "\n",
      "multiplication table for 4\n",
      "4 x 1 = 4\n",
      "4 x 2 = 8\n",
      "4 x 3 = 12\n",
      "4 x 4 = 16\n",
      "4 x 5 = 20\n",
      "4 x 6 = 24\n",
      "4 x 7 = 28\n",
      "4 x 8 = 32\n",
      "4 x 9 = 36\n",
      "4 x 10 = 40\n",
      "\n",
      "multiplication table for 5\n",
      "5 x 1 = 5\n",
      "5 x 2 = 10\n",
      "5 x 3 = 15\n",
      "5 x 4 = 20\n",
      "5 x 5 = 25\n",
      "5 x 6 = 30\n",
      "5 x 7 = 35\n",
      "5 x 8 = 40\n",
      "5 x 9 = 45\n",
      "5 x 10 = 50\n",
      "\n"
     ]
    }
   ],
   "source": [
    "'''16. Develop a program that generates a multiplication table \n",
    "for numbers from 1 to 5 using a nested `for` loop.'''\n",
    "\n",
    "start = 1\n",
    "end = 5\n",
    "\n",
    "for i in range(start,end+1):\n",
    "    print(f'multiplication table for {i}')\n",
    "    for j in range(1,11):\n",
    "        result = i*j\n",
    "        print(f'{i} x {j} = {result}')\n",
    "        \n",
    "    print()\n",
    "            \n",
    "            \n",
    "            \n"
   ]
  },
  {
   "cell_type": "code",
   "execution_count": 21,
   "id": "3733fc52",
   "metadata": {},
   "outputs": [
    {
     "name": "stdout",
     "output_type": "stream",
     "text": [
      "[-3.888888888888889, -1.1111111111111112, 4.444444444444445, 10.0, 15.555555555555555, 21.11111111111111, 37.77777777777778]\n"
     ]
    }
   ],
   "source": [
    "'''17. Write a program that converts a list of \n",
    "Fahrenheit temperatures to Celsius using a `for` loop.'''\n",
    "\n",
    "'''°C = (°F - 32) × 5/9 this is the formula for calculating Celsius and Fahrenheit.\n",
    "Take the temperature in Celsius as input and it is converted into integer.\n",
    "fahrenheit = (celsius * 9/5) + 32 and after that print the fahrenheit.'''\n",
    "\n",
    "# Function to convert Fahrenheit to Celsius\n",
    "def fahrenheit_to_celsius(fahrenheit):\n",
    "    return (fahrenheit - 32) * 5/9\n",
    "\n",
    "fahren_temp = [25,30,40,50,60,70,100]\n",
    "celsius_temp = []\n",
    "\n",
    "for fahrenheit in fahren_temp:\n",
    "    celsius = fahrenheit_to_celsius(fahrenheit)\n",
    "    celsius_temp.append(celsius)\n",
    "    \n",
    "print(celsius_temp)\n",
    "    \n"
   ]
  },
  {
   "cell_type": "code",
   "execution_count": 22,
   "id": "a511a232",
   "metadata": {},
   "outputs": [
    {
     "name": "stdout",
     "output_type": "stream",
     "text": [
      "[2, 4, 6, 'siva']\n"
     ]
    }
   ],
   "source": [
    "# 18. Create a program to print the common elements from two lists using a `for` loop.\n",
    "\n",
    "l1 = [1,2,3,4,5,6,'siva']\n",
    "l2 = [2,10,24,15,4,6,'siva']\n",
    "\n",
    "common_elements = []\n",
    "\n",
    "for i in l1:\n",
    "    if i in l2:\n",
    "        common_elements.append(i)\n",
    "        \n",
    "print(common_elements)\n"
   ]
  },
  {
   "cell_type": "code",
   "execution_count": 23,
   "id": "c998fdd7",
   "metadata": {},
   "outputs": [
    {
     "name": "stdout",
     "output_type": "stream",
     "text": [
      "\r\n",
      "*\r\n",
      "**\r\n",
      "***\r\n",
      "****\r\n",
      "*****\r\n"
     ]
    }
   ],
   "source": [
    "'''19. Develop a program that prints the\n",
    "pattern of right-angled triangles \n",
    "using a `for` loop. Use ‘*’ to draw the\n",
    "pattern'''\n",
    "\n",
    "# take row and coloum\n",
    "\n",
    "for i in range(6):\n",
    "    for j in range(i):\n",
    "        print('*',end='')\n",
    "    print('\\r')"
   ]
  },
  {
   "cell_type": "code",
   "execution_count": 24,
   "id": "5159d7e5",
   "metadata": {},
   "outputs": [
    {
     "name": "stdout",
     "output_type": "stream",
     "text": [
      "*\r\n",
      "**\r\n",
      "***\r\n",
      "****\r\n",
      "*****\r\n",
      "******\r\n"
     ]
    }
   ],
   "source": [
    "n = 6\n",
    "for i in range(n):\n",
    "    for j in range(0,i+1):\n",
    "        print('*',end='')\n",
    "    print('\\r')"
   ]
  },
  {
   "cell_type": "code",
   "execution_count": 25,
   "id": "52b3555f",
   "metadata": {},
   "outputs": [
    {
     "name": "stdout",
     "output_type": "stream",
     "text": [
      "enter the first number: 12\n",
      "enter the second number: 18\n",
      "6\n"
     ]
    }
   ],
   "source": [
    "# 20. Write a program to find the greatest common divisor (GCD) of two numbers using a `for` loop.\n",
    "\n",
    "def find_gcd(a,b):\n",
    "    if a < b:\n",
    "        smaller = a\n",
    "    else:\n",
    "        smaller = b\n",
    "    \n",
    "    gcd = 1 # Initialize the gcd\n",
    "    \n",
    "    # Iterate from 1 to the smaller number\n",
    "    for i in range(1,smaller+1):\n",
    "        if a%i == 0 and b%i == 0:\n",
    "            gcd = i\n",
    "            \n",
    "    return gcd\n",
    "\n",
    "a = int(input('enter the first number: '))\n",
    "b = int(input('enter the second number: '))\n",
    "\n",
    "gcd = find_gcd(a,b)\n",
    "\n",
    "print(gcd)"
   ]
  },
  {
   "cell_type": "code",
   "execution_count": 26,
   "id": "1b8be24a",
   "metadata": {},
   "outputs": [
    {
     "name": "stdout",
     "output_type": "stream",
     "text": [
      "10\n"
     ]
    }
   ],
   "source": [
    "# 21. Create a program that calculates the sum of the digits of numbers in a list using a list comprehension.\n",
    "\n",
    "l = [1,2,3,4]\n",
    "sum_total = sum([i for i in l])\n",
    "print(sum_total)"
   ]
  },
  {
   "cell_type": "code",
   "execution_count": 27,
   "id": "e020ffed",
   "metadata": {},
   "outputs": [
    {
     "name": "stdout",
     "output_type": "stream",
     "text": [
      "enter a number:20\n",
      "The prime factors of 20 are [2, 5]\n"
     ]
    }
   ],
   "source": [
    "# 22. Write a program to find the prime factors of a given number using a `for` loop and list comprehension.\n",
    "'''The factors of a number that are prime numbers are called prime factors of the number.'''\n",
    "def prime_factors(n):\n",
    "    # Write list comprehension\n",
    "    factors = [i for i in range(2,n+1) if n%i == 0 and all(i%j!=0 for j in range(2,i))]\n",
    "    # all function to ensure that i is a prime number by checking\n",
    "    # if it is not divisible by any number in the range from 2 to i.\n",
    "    # The function appends i to the factors list if both conditions are satisfied. \n",
    "    # Finally, the function returns the factors list.\n",
    "    return factors\n",
    "\n",
    "number = int(input('enter a number:'))\n",
    "\n",
    "print(f\"The prime factors of {number} are {prime_factors(number)}\")\n",
    "    "
   ]
  },
  {
   "cell_type": "code",
   "execution_count": 28,
   "id": "63a3bab0",
   "metadata": {},
   "outputs": [
    {
     "name": "stdout",
     "output_type": "stream",
     "text": [
      "[1, 2, 3, 4, 5, 6, 7, 8]\n"
     ]
    }
   ],
   "source": [
    "'''23. Develop a program that extracts unique elements from a list \n",
    "and stores them in a new list using a list comprehension.'''\n",
    "\n",
    "# take list\n",
    "# extracts the unique elements\n",
    "# store in a new list\n",
    "\n",
    "# Using the for loop\n",
    "def unique_elements(l):\n",
    "    unique_list = []\n",
    "    for x in l:\n",
    "        if x not in unique_list:\n",
    "            unique_list.append(x)\n",
    "    return unique_list\n",
    "l = [1,2,3,4,5,6,7,8,2,3,5,1]\n",
    "my_list = unique_elements(l)\n",
    "\n",
    "print(my_list) "
   ]
  },
  {
   "cell_type": "code",
   "execution_count": 29,
   "id": "1720eb0d",
   "metadata": {},
   "outputs": [
    {
     "name": "stdout",
     "output_type": "stream",
     "text": [
      "[1, 2, 3, 4, 5, 6, 7, 8]\n"
     ]
    }
   ],
   "source": [
    "'''23. Develop a program that extracts unique elements from a list \n",
    "and stores them in a new list using a list comprehension.'''\n",
    "\n",
    "# Using list comprehension\n",
    "def unique_elements(l):\n",
    "    new_list = [j for i,j in enumerate(l) if l.index(j)==i]\n",
    "    return new_list\n",
    "\n",
    "l = [1,2,3,4,5,6,7,8,2,3,5,1]\n",
    "unique_list = unique_elements(l)\n",
    "\n",
    "print(unique_list)"
   ]
  },
  {
   "cell_type": "code",
   "execution_count": 30,
   "id": "f3988294",
   "metadata": {},
   "outputs": [
    {
     "name": "stdout",
     "output_type": "stream",
     "text": [
      "[1, 2, 3, 4, 5, 6, 7, 8, 9, 11, 22, 33, 44, 55, 66, 77, 88, 99, 101, 111, 121, 131, 141, 151, 161, 171, 181, 191, 202, 212, 222, 232, 242, 252, 262, 272, 282, 292, 303, 313, 323, 333, 343, 353, 363, 373, 383, 393, 404, 414, 424, 434, 444, 454, 464, 474, 484, 494, 505, 515, 525, 535, 545, 555, 565, 575, 585, 595, 606, 616, 626, 636, 646, 656, 666, 676, 686, 696, 707, 717, 727, 737, 747, 757, 767, 777, 787, 797, 808, 818, 828, 838, 848, 858, 868, 878, 888, 898, 909, 919, 929, 939, 949, 959, 969, 979, 989, 999]\n"
     ]
    }
   ],
   "source": [
    "'''24. Create a program that generates a list of all \n",
    "palindromic numbers up to a specified limit using a list\n",
    "comprehension.'''\n",
    "\n",
    "# palindromic numbers eg : 111,121\n",
    "def palindromic_num(limit):\n",
    "    gen_list = [i for i in range(1,limit+1) if str(i) == str(i)[::-1]]\n",
    "    return gen_list\n",
    "\n",
    "limit = 1000  # You can specify your desired limit here\n",
    "plindromic_list = palindromic_num(limit)\n",
    "\n",
    "print(plindromic_list)"
   ]
  },
  {
   "cell_type": "code",
   "execution_count": 31,
   "id": "9d2c4ad1",
   "metadata": {},
   "outputs": [
    {
     "name": "stdout",
     "output_type": "stream",
     "text": [
      "[1, 2, 3, 4, 5, 6, 7, 8]\n"
     ]
    }
   ],
   "source": [
    "# 25. Write a program to flatten a nested list using list comprehension.\n",
    "\n",
    "# Nested list = [1,2,[3,4,5]]\n",
    "\n",
    "def flatten_list(nested_list):\n",
    "    flatten_list = [item for sublist in nested_list for item in (sublist if type(sublist) == list else [sublist])]\n",
    "    return flatten_list\n",
    "nested_list = [1,2,[3,4,5],[6,7,8]]\n",
    "my_list = flatten_list(nested_list)\n",
    "print(my_list)\n"
   ]
  },
  {
   "cell_type": "code",
   "execution_count": 32,
   "id": "6d071eb1",
   "metadata": {},
   "outputs": [
    {
     "name": "stdout",
     "output_type": "stream",
     "text": [
      "[1, 2, 3, 4, 5, 6, 7, 8]\n"
     ]
    }
   ],
   "source": [
    "my_list = [[1],[2,3],[4,5,6,7,8]]\n",
    "flat_list = [num for sublist in my_list for num in sublist]\n",
    "print(flat_list)"
   ]
  },
  {
   "cell_type": "code",
   "execution_count": 33,
   "id": "7148e748",
   "metadata": {},
   "outputs": [
    {
     "name": "stdout",
     "output_type": "stream",
     "text": [
      "The sum of even numbers is 12\n",
      "The sum of odd numbers is 9\n"
     ]
    }
   ],
   "source": [
    "'''26. Develop a program that computes the sum of even and odd numbers in a list separately using list\n",
    "comprehension.'''\n",
    "\n",
    "num = [1,2,3,4,5,6]\n",
    "    \n",
    "even_sum = sum([i for i in num if i%2 == 0])\n",
    "odd_sum = sum([j for j in num if j%2 != 0])\n",
    "\n",
    "print(f\"The sum of even numbers is {even_sum}\")\n",
    "print(f\"The sum of odd numbers is {odd_sum}\")\n"
   ]
  },
  {
   "cell_type": "code",
   "execution_count": 34,
   "id": "04dccd3a",
   "metadata": {},
   "outputs": [
    {
     "name": "stdout",
     "output_type": "stream",
     "text": [
      "The even square numbers is [4, 16, 36, 64, 100]\n",
      "The odd square numbers is [1, 9, 25, 49, 81]\n"
     ]
    }
   ],
   "source": [
    "'''27. Create a program that generates a list of squares of odd numbers between 1 and 10 using list\n",
    "comprehension.'''\n",
    "\n",
    "even_square_num = [i**2 for i in range(1,11) if i%2 == 0]\n",
    "odd_square_num = [j**2 for j in range(1,11) if j%2 != 0]\n",
    "\n",
    "print(f\"The even square numbers is {even_square_num}\")\n",
    "print(f\"The odd square numbers is {odd_square_num}\")"
   ]
  },
  {
   "cell_type": "code",
   "execution_count": 35,
   "id": "c9fd66da",
   "metadata": {},
   "outputs": [
    {
     "name": "stdout",
     "output_type": "stream",
     "text": [
      "{'a': 1, 'b': 2, 'c': 3}\n"
     ]
    }
   ],
   "source": [
    "# 28. Write a program that combines two lists into a dictionary using list comprehension.\n",
    "# take key one list\n",
    "# take value as a 2nd list\n",
    "\n",
    "keys = ['a','b','c']\n",
    "values = [1,2,3]\n",
    "\n",
    "dictionary = {keys[i]:values[i] for i in  range(len(keys))}\n",
    "# iterates over the indices of the keys list using the range function.\n",
    "# For each index i, it creates a key-value pair in the \n",
    "# dictionary using keys[i] as the key and values[i] as the value.\n",
    "\n",
    "print(dictionary)"
   ]
  },
  {
   "cell_type": "code",
   "execution_count": 36,
   "id": "789b85a9",
   "metadata": {},
   "outputs": [
    {
     "name": "stdout",
     "output_type": "stream",
     "text": [
      "['a', 'a', 'i', 'e', 'e', 'e', 'i', 'e', 'e']\n"
     ]
    }
   ],
   "source": [
    "'''29. Develop a program that extracts the vowels from a string and \n",
    "stores them in a list using list comprehension.'''\n",
    "\n",
    "s = 'Data Science Engineer'\n",
    "s1 = s.lower()\n",
    "l1 = ['a','e','i','o','u']\n",
    "new_list = [i for i in s1 if i in l1]\n",
    "print(new_list)"
   ]
  },
  {
   "cell_type": "code",
   "execution_count": 37,
   "id": "0fd80829",
   "metadata": {},
   "outputs": [
    {
     "name": "stdout",
     "output_type": "stream",
     "text": [
      "['1', '2', '3', '4']\n"
     ]
    }
   ],
   "source": [
    "'''30. Create a program that removes all non-numeric characters \n",
    "from a list of strings using list comprehension.'''\n",
    "\n",
    "# eg non-numeric strings = ['1a','2b','c3']\n",
    "# remove the a,b,c in a strings list\n",
    "# print the result\n",
    "\n",
    "strings = ['1a','2b','c3','4']\n",
    "\n",
    "# using list comprehension\n",
    "\n",
    "'''We use list comprehension to create a new list called result. \n",
    "In this comprehension, we iterate through each character in each string (s)\n",
    "and check if it is a digit using the isdigit() method. \n",
    "If it's a digit, we keep it; otherwise, we remove it.'''\n",
    "\n",
    "result = [\"\".join([i for i in s if i.isdigit()]) for s in strings]\n",
    "\n",
    "print(result)"
   ]
  },
  {
   "cell_type": "code",
   "execution_count": 38,
   "id": "931d7acf",
   "metadata": {},
   "outputs": [
    {
     "name": "stdout",
     "output_type": "stream",
     "text": [
      "Enter the limit for generating prime numbers: 20\n",
      "Prime numbers up to 20 are: [2, 3, 5, 7, 11, 13, 17, 19]\n"
     ]
    }
   ],
   "source": [
    "# Challenge level\n",
    "\n",
    "'''31. Write a program to generate a list of prime numbers using the Sieve of Eratosthenes algorithm and list\n",
    "comprehension.'''\n",
    "\n",
    "'''Starting Point (p * p): The inner loop starts from p * p \n",
    "because any smaller multiple of p (i.e., less than p * p) \n",
    "would have already been marked as non-prime by previous prime numbers. \n",
    "For example, if p is 5, you don't need to mark multiples of 5 like 5 * 2, 5 * 3, 5 * 4, etc., \n",
    "as non-prime because those have already been marked when processing the prime numbers 2, 3, and 4. \n",
    "Starting from p * p avoids unnecessary work and \n",
    "ensures that only multiples of p greater than or equal to p * p are mark.'''\n",
    "\n",
    "def sieve_of_eratosthenes(limit):\n",
    "    is_prime = [True] * (limit + 1)\n",
    "    is_prime[0] = is_prime[1] = False\n",
    "\n",
    "    for p in range(2, int(limit**0.5) + 1):\n",
    "        if is_prime[p]:\n",
    "            # Mark all multiples of p as non-prime\n",
    "            for i in range(p * p, limit + 1, p):\n",
    "                is_prime[i] = False\n",
    "                \n",
    "    prime_numbers = [p for p in range(2, limit + 1) if is_prime[p]]\n",
    "    return prime_numbers\n",
    "\n",
    "# Input the limit for generating prime numbers\n",
    "limit = int(input(\"Enter the limit for generating prime numbers: \"))\n",
    "primes = sieve_of_eratosthenes(limit)\n",
    "\n",
    "print(\"Prime numbers up to\", limit, \"are:\", primes)\n",
    "\n"
   ]
  },
  {
   "cell_type": "code",
   "execution_count": 39,
   "id": "92884163",
   "metadata": {},
   "outputs": [
    {
     "name": "stdout",
     "output_type": "stream",
     "text": [
      "Prime numbers up to 50 are: [2, 3, 5, 7, 11, 13, 17, 19, 23, 29, 31, 37, 41, 43, 47]\n"
     ]
    }
   ],
   "source": [
    "def sieve_of_eratosthenes(limit):\n",
    "    # Create a boolean list \"is_prime\" and initialize all entries as True\n",
    "    is_prime = [True] * (limit + 1)\n",
    "    is_prime[0] = is_prime[1] = False  # 0 and 1 are not prime\n",
    "\n",
    "    # Start with the first prime number, 2\n",
    "    p = 2\n",
    "    while p * p <= limit:\n",
    "        # If is_prime[p] is still True, it is a prime\n",
    "        if is_prime[p]:\n",
    "            # Mark all multiples of p as non-prime\n",
    "            for i in range(p * p, limit + 1, p):\n",
    "                is_prime[i] = False\n",
    "        p += 1\n",
    "\n",
    "    # Create a list of prime numbers from the boolean list\n",
    "    prime_numbers = [p for p in range(2, limit + 1) if is_prime[p]]\n",
    "    return prime_numbers\n",
    "\n",
    "# Example usage:\n",
    "limit = 50\n",
    "primes = sieve_of_eratosthenes(limit)\n",
    "print(\"Prime numbers up to\", limit, \"are:\", primes)\n"
   ]
  },
  {
   "cell_type": "code",
   "execution_count": 40,
   "id": "aaf2f25d",
   "metadata": {},
   "outputs": [
    {
     "name": "stdout",
     "output_type": "stream",
     "text": [
      "[(3, 4, 5), (6, 8, 10)]\n"
     ]
    }
   ],
   "source": [
    "'''32. Create a program that generates a list of all Pythagorean triplets up to a specified limit using list\n",
    "comprehension.'''\n",
    "\n",
    "'''Pythagorean triplets : The sum of the squres of first two numbers is equal to square of the 3rd number.'''\n",
    "# eg : a**2 + b**2 == c**2\n",
    "\n",
    "def pythagorean_triplets(limit):\n",
    "    # using list comprehension\n",
    "    triplets = [(a,b,c) for a in range(1,limit+1)\n",
    "                        for b in range(a,limit+1)\n",
    "                        for c in range(b,limit+1)\n",
    "                        if a**2 + b**2 == c**2]\n",
    "    # Return the list of triplets\n",
    "    return triplets\n",
    "\n",
    "# call the function\n",
    "print(pythagorean_triplets(10))\n",
    "\n"
   ]
  },
  {
   "cell_type": "code",
   "execution_count": 41,
   "id": "dd06c17b",
   "metadata": {},
   "outputs": [
    {
     "name": "stdout",
     "output_type": "stream",
     "text": [
      "Enter the limit for finding Pythagorean triplets: 10\n",
      "Pythagorean triplets up to 10 are: [(3, 4, 5), (6, 8, 10)]\n"
     ]
    }
   ],
   "source": [
    "def find_pythagorean_triplets(limit):\n",
    "    triplets = []\n",
    "    for a in range(1, limit + 1):\n",
    "        for b in range(a, limit + 1):\n",
    "            c_squared = a**2 + b**2\n",
    "            c = int(c_squared**0.5)\n",
    "            if c_squared == c**2:\n",
    "                triplets.append((a, b, c))\n",
    "    return triplets\n",
    "\n",
    "# Input the limit for finding Pythagorean triplets\n",
    "limit = int(input(\"Enter the limit for finding Pythagorean triplets: \"))\n",
    "triplets = find_pythagorean_triplets(limit)\n",
    "\n",
    "print(\"Pythagorean triplets up to\", limit, \"are:\",triplets)\n",
    "\n"
   ]
  },
  {
   "cell_type": "code",
   "execution_count": 42,
   "id": "43e7ec3c",
   "metadata": {},
   "outputs": [
    {
     "name": "stdout",
     "output_type": "stream",
     "text": [
      "[('a', 1), ('a', 2), ('a', 2), ('b', 1), ('b', 2), ('b', 2), ('c', 1), ('c', 2), ('c', 2)]\n"
     ]
    }
   ],
   "source": [
    "# 33. Develop a program that generates a list of all possible combinations of two lists using list comprehension.\n",
    "# take 2 lists\n",
    "# combine combinations of the list the 2 lists\n",
    "\n",
    "l1 = ['a','b','c']\n",
    "l2 = [1,2,2]\n",
    "\n",
    "combinations_list = [(x,y) for x in l1 for y in l2]\n",
    "print(combinations_list)\n"
   ]
  },
  {
   "cell_type": "code",
   "execution_count": 43,
   "id": "b21358d7",
   "metadata": {},
   "outputs": [
    {
     "name": "stdout",
     "output_type": "stream",
     "text": [
      "Mean: 5.545454545454546\n",
      "Median: 6\n",
      "Mode: [6]\n"
     ]
    }
   ],
   "source": [
    "'''34. Write a program that calculates the mean, median, and mode of a list of numbers using list\n",
    "comprehension.'''\n",
    "# Mean = sum of nums/ no.of values\n",
    "'''Median = it is middle value in the data and\n",
    "numbers are then median is avg of two middle numbers.'''\n",
    "# Mode = value that appears most frequently in the data\n",
    "\n",
    "# Define a list of numbers to analyze\n",
    "numbers = [1, 2, 3, 4, 5, 6,6,7, 8, 9, 10]\n",
    "\n",
    "# Use list comprehension to calculate the sum and the length of the list\n",
    "sum = sum([x for x in numbers])\n",
    "length = len([x for x in numbers])\n",
    "\n",
    "# Calculate the mean by dividing the sum by the length\n",
    "mean = sum / length\n",
    "\n",
    "# Sort the list in ascending order\n",
    "sorted_numbers = sorted([x for x in numbers])\n",
    "\n",
    "# Calculate the median by finding the middle element or the average of the middle two elements\n",
    "if length % 2 == 0: # If the length is even\n",
    "  median = (sorted_numbers[length // 2 - 1] + sorted_numbers[length // 2]) / 2\n",
    "else: # If the length is odd\n",
    "  median = sorted_numbers[length // 2]\n",
    "\n",
    "# Use list comprehension to count the frequency of each element in the list\n",
    "frequency = [(x, numbers.count(x)) for x in set(numbers)]\n",
    "\n",
    "# Find the maximum frequency\n",
    "max_frequency = max([y for x, y in frequency])\n",
    "\n",
    "# Use list comprehension to find the elements that have the maximum frequency\n",
    "mode = [x for x, y in frequency if y == max_frequency]\n",
    "\n",
    "# Print the mean, median, and mode\n",
    "print(\"Mean:\", mean)\n",
    "print(\"Median:\", median)\n",
    "print(\"Mode:\", mode)\n"
   ]
  },
  {
   "cell_type": "code",
   "execution_count": 1,
   "id": "63fb0331",
   "metadata": {},
   "outputs": [
    {
     "name": "stdout",
     "output_type": "stream",
     "text": [
      "mean: 4.666666666666667\n",
      "median: 5\n",
      "mode: [6]\n"
     ]
    }
   ],
   "source": [
    "numbers = [1, 2, 3, 4, 5, 6, 6, 7, 8]\n",
    "\n",
    "length = len(numbers)\n",
    "sum_numbers = sum(numbers)\n",
    "mean = sum_numbers / length\n",
    "\n",
    "sorted_numbers = sorted(numbers)\n",
    "\n",
    "if length % 2 == 0:\n",
    "    median = (sorted_numbers[length // 2 - 1] + sorted_numbers[length // 2]) / 2\n",
    "else:\n",
    "    median = sorted_numbers[length // 2]\n",
    "\n",
    "# Create a dictionary to store the frequency of each number\n",
    "frequency_dict = {}\n",
    "for num in numbers:\n",
    "    if num in frequency_dict:\n",
    "        frequency_dict[num] += 1\n",
    "    else:\n",
    "        frequency_dict[num] = 1\n",
    "\n",
    "# Find the maximum frequency\n",
    "max_frequency = max(frequency_dict.values())\n",
    "\n",
    "# Calculate the mode(s) by finding numbers with the maximum frequency\n",
    "mode = [num for num, freq in frequency_dict.items() if freq == max_frequency]\n",
    "\n",
    "print('mean:', mean)\n",
    "print('median:', median)\n",
    "print('mode:', mode)"
   ]
  },
  {
   "cell_type": "code",
   "execution_count": 2,
   "id": "55a22887",
   "metadata": {},
   "outputs": [
    {
     "name": "stdout",
     "output_type": "stream",
     "text": [
      "Enter the number of rows for Pascal's Triangle: 5\n",
      "         1          \n",
      "        1 1         \n",
      "       1 2 1        \n",
      "      1 3 3 1       \n",
      "     1 4 6 4 1      \n"
     ]
    }
   ],
   "source": [
    "# 35. Create a program that generates Pascal's triangle up to a specified number of rows using list comprehension.\n",
    "'''Pascal's triangle: array of numbers in which each numbers\n",
    "is sum of the two numbers directly above it.'''\n",
    "\n",
    "def generate_pascals_triangle(num_rows):\n",
    "    if num_rows <= 0:\n",
    "        return []\n",
    "\n",
    "    triangle = [[1]]\n",
    "\n",
    "    for i in range(1, num_rows):\n",
    "        # Generate the next row using list comprehension\n",
    "        next_row = [1] + [triangle[-1][i-1] + triangle[-1][i] for i in range(1, len(triangle[-1]))] + [1]\n",
    "        triangle.append(next_row)\n",
    "\n",
    "    return triangle\n",
    "\n",
    "# Input the number of rows for Pascal's Triangle\n",
    "num_rows = int(input(\"Enter the number of rows for Pascal's Triangle: \"))\n",
    "pascals_triangle = generate_pascals_triangle(num_rows)\n",
    "\n",
    "# Print Pascal's Triangle\n",
    "for row in pascals_triangle:\n",
    "    print(\" \".join(map(str, row)).center(num_rows * 4))\n"
   ]
  },
  {
   "cell_type": "code",
   "execution_count": 3,
   "id": "5a381785",
   "metadata": {},
   "outputs": [
    {
     "name": "stdout",
     "output_type": "stream",
     "text": [
      "Enter the number of rows for Pascal's Triangle: 5\n",
      "         1          \n",
      "        1 1         \n",
      "       1 2 1        \n",
      "      1 3 3 1       \n",
      "     1 4 6 4 1      \n"
     ]
    }
   ],
   "source": [
    "def generate_pascals_triangle(num_rows):\n",
    "    triangle = []\n",
    "\n",
    "    for i in range(num_rows):\n",
    "        row = []\n",
    "        for j in range(i + 1):\n",
    "            if j == 0 or j == i:\n",
    "                row.append(1)\n",
    "            else:\n",
    "                # Calculate each element based on the two elements above it\n",
    "                element = triangle[i - 1][j - 1] + triangle[i - 1][j]\n",
    "                row.append(element)\n",
    "        triangle.append(row)\n",
    "\n",
    "    return triangle\n",
    "\n",
    "# Input the number of rows for Pascal's Triangle\n",
    "num_rows = int(input(\"Enter the number of rows for Pascal's Triangle: \"))\n",
    "pascals_triangle = generate_pascals_triangle(num_rows)\n",
    "\n",
    "# Print Pascal's Triangle\n",
    "for row in pascals_triangle:\n",
    "    print(\" \".join(map(str, row)).center(num_rows * 4))\n"
   ]
  },
  {
   "cell_type": "code",
   "execution_count": 4,
   "id": "1d51ca04",
   "metadata": {},
   "outputs": [
    {
     "name": "stdout",
     "output_type": "stream",
     "text": [
      "[1, 2, 6, 6, 3]\n"
     ]
    }
   ],
   "source": [
    "# 36. Develop a program that calculates the sum of the digits of a factorial of numbers from 1 to 5 using list comprehension.\n",
    "# n! = n(n-1)(n-2).....(n-n\n",
    "\n",
    "'''The sum of the digits of a factorial of numbers from 1 to 5\n",
    "is a mathematical expression that means adding up the individual digits \n",
    "of the result of multiplying all the numbers from 1 to a given number. \n",
    "For example, the factorial of 5 is 5 x 4 x 3 x 2 x 1 = 120, \n",
    "and the sum of the digits of 120 is 1 + 2 + 0 = 3.'''\n",
    "\n",
    "\n",
    "def factorial(n):\n",
    "    if n==0:\n",
    "        return 1\n",
    "    else:\n",
    "        return n*factorial(n-1)\n",
    "\n",
    "def digit_sum(n):\n",
    "  # Use list comprehension to convert the number to a string and then to a list of digits\n",
    "  digits = [int(x) for x in str(n)]\n",
    "  # Use list comprehension to add up all the digits\n",
    "  return sum(digits)\n",
    "\n",
    "# Define a list of numbers from 1 to 5\n",
    "numbers = [1, 2, 3, 4, 5]\n",
    "\n",
    "# Use list comprehension to calculate the sum of the digits of the factorial of each number\n",
    "results = [digit_sum(factorial(x)) for x in numbers]\n",
    "\n",
    "# Print the results\n",
    "print(results)"
   ]
  },
  {
   "cell_type": "code",
   "execution_count": 5,
   "id": "8867b078",
   "metadata": {},
   "outputs": [
    {
     "name": "stdout",
     "output_type": "stream",
     "text": [
      "Factorial of 1: 1, Sum of digits: 1\n",
      "Factorial of 2: 2, Sum of digits: 2\n",
      "Factorial of 3: 6, Sum of digits: 6\n",
      "Factorial of 4: 24, Sum of digits: 6\n",
      "Factorial of 5: 120, Sum of digits: 3\n"
     ]
    }
   ],
   "source": [
    "# Function to calculate the factorial of a number\n",
    "def factorial(n):\n",
    "    if n == 0:\n",
    "        return 1\n",
    "    else:\n",
    "        return n * factorial(n - 1)\n",
    "\n",
    "# List comprehension to calculate the factorials of numbers from 1 to 5\n",
    "factorials = [factorial(n) for n in range(1, 6)]\n",
    "\n",
    "# List comprehension to calculate the sum of digits for each factorial\n",
    "digit_sums = [sum(int(digit) for digit in str(factorial)) for factorial in factorials]\n",
    "\n",
    "# Print the results\n",
    "for n, factorial, digit_sum in zip(range(1, 6), factorials, digit_sums):\n",
    "    print(f\"Factorial of {n}: {factorial}, Sum of digits: {digit_sum}\")\n"
   ]
  },
  {
   "cell_type": "code",
   "execution_count": 6,
   "id": "769c4d61",
   "metadata": {},
   "outputs": [
    {
     "name": "stdout",
     "output_type": "stream",
     "text": [
      "Enter a sentence: data science engineer\n",
      "The longest word in the sentence is: engineer\n"
     ]
    }
   ],
   "source": [
    "# 37. Write a program that finds the longest word in a sentence using list comprehension.\n",
    "\n",
    "# Function to find the longest word in a sentence\n",
    "def find_longest_word(sentence):\n",
    "    # Split the sentence into words\n",
    "    words = sentence.split()\n",
    "    \n",
    "    # Use list comprehension to find the longest word(s)\n",
    "    longest_words = [word for word in words if len(word) == max(len(word) for word in words)]\n",
    "    \n",
    "    return longest_words\n",
    "\n",
    "# Input a sentence\n",
    "sentence = input(\"Enter a sentence: \")\n",
    "\n",
    "# Find the longest word(s) using list comprehension\n",
    "longest_words = find_longest_word(sentence)\n",
    "\n",
    "if longest_words:\n",
    "    if len(longest_words) == 1:\n",
    "        print(f\"The longest word in the sentence is: {longest_words[0]}\")\n",
    "    else:\n",
    "        print(\"The longest words in the sentence are:\")\n",
    "        for word in longest_words:\n",
    "            print(word)\n",
    "else:\n",
    "    print(\"No words found in the sentence.\")\n"
   ]
  },
  {
   "cell_type": "code",
   "execution_count": 7,
   "id": "b026cdc7",
   "metadata": {},
   "outputs": [
    {
     "name": "stdout",
     "output_type": "stream",
     "text": [
      "['engineer']\n"
     ]
    }
   ],
   "source": [
    "# Define a sentence to analyze\n",
    "sentence = \"The data science engineer \"\n",
    "\n",
    "# Use list comprehension to split the sentence into words and find their lengths\n",
    "words = [(word, len(word)) for word in sentence.split()]\n",
    "\n",
    "# Use list comprehension to find the maximum length\n",
    "max_length = max([length for word, length in words])\n",
    "\n",
    "# Use list comprehension to find the words that have the maximum length\n",
    "longest_words = [word for word, length in words if length == max_length]\n",
    "\n",
    "# Print the longest words\n",
    "print(longest_words)"
   ]
  },
  {
   "cell_type": "code",
   "execution_count": 8,
   "id": "6bdd355f",
   "metadata": {},
   "outputs": [
    {
     "name": "stdout",
     "output_type": "stream",
     "text": [
      "Strings with more than three vowels:\n",
      "OpenAI\n"
     ]
    }
   ],
   "source": [
    "# 38. Create a program that filters a list of strings to include only those with more than three vowels using list comprehension.\n",
    "\n",
    "# Function to count vowels in a string\n",
    "def count_vowels(string):\n",
    "    vowels = \"AEIOUaeiou\"\n",
    "    return sum(1 for char in string if char in vowels)\n",
    "\n",
    "# List of strings\n",
    "strings = [\"Hello\", \"Python\", \"Programming\", \"AI\", \"OpenAI\"]\n",
    "\n",
    "# Use list comprehension to filter strings with more than three vowels\n",
    "filtered_strings = [string for string in strings if count_vowels(string) > 3]\n",
    "\n",
    "# Print the filtered strings\n",
    "print(\"Strings with more than three vowels:\")\n",
    "for string in filtered_strings:\n",
    "    print(string)\n"
   ]
  },
  {
   "cell_type": "code",
   "execution_count": 9,
   "id": "28a88781",
   "metadata": {},
   "outputs": [
    {
     "name": "stdout",
     "output_type": "stream",
     "text": [
      "['beautiful', 'data science']\n"
     ]
    }
   ],
   "source": [
    "# Define a list of strings to filter\n",
    "strings = [\"hello\", \"world\", \"beautiful\", \"python\", \"data science\", \"pw skills\"]\n",
    "\n",
    "# Define a set of vowels\n",
    "vowels = {\"a\", \"e\", \"i\", \"o\", \"u\"}\n",
    "\n",
    "# Use list comprehension to count the number of vowels in each string\n",
    "vowel_counts = [(string, sum(1 for char in string if char in vowels)) for string in strings]\n",
    "\n",
    "# Use list comprehension to filter the strings that have more than three vowels\n",
    "filtered_strings = [string for string, count in vowel_counts if count > 3]\n",
    "\n",
    "# Print the filtered strings\n",
    "print(filtered_strings)\n"
   ]
  },
  {
   "cell_type": "code",
   "execution_count": 10,
   "id": "649429f8",
   "metadata": {},
   "outputs": [
    {
     "name": "stdout",
     "output_type": "stream",
     "text": [
      "Sum of digits for numbers from 1 to 1000: 13501\n"
     ]
    }
   ],
   "source": [
    "# 39. Develop a program that calculates the sum of the digits of numbers from 1 to 1000 using list comprehension.\n",
    "\n",
    "\n",
    "# Function to calculate the sum of digits of a number\n",
    "def sum_of_digits(number):\n",
    "    return sum(int(digit) for digit in str(number))\n",
    "\n",
    "# List comprehension to calculate the sum of digits for numbers from 1 to 1000\n",
    "digit_sums = [sum_of_digits(number) for number in range(1, 1001)]\n",
    "\n",
    "# Calculate the total sum of digit sums\n",
    "total_sum = sum(digit_sums)\n",
    "\n",
    "print(\"Sum of digits for numbers from 1 to 1000:\", total_sum)\n"
   ]
  },
  {
   "cell_type": "code",
   "execution_count": 11,
   "id": "93066abd",
   "metadata": {},
   "outputs": [
    {
     "name": "stdout",
     "output_type": "stream",
     "text": [
      "13501\n"
     ]
    }
   ],
   "source": [
    "# Define a function that takes a number as an argument and returns the sum of its digits\n",
    "def digit_sum(n):\n",
    "  # Convert the number to a string and then to a list of digits\n",
    "  digits = [int(x) for x in str(n)]\n",
    "  # Add up all the digits and return the sum\n",
    "  return sum(digits)\n",
    "\n",
    "# Define a list of numbers from 1 to 1000\n",
    "numbers = [x for x in range(1, 1001)]\n",
    "\n",
    "# Use list comprehension to calculate the sum of the digits of each number\n",
    "digit_sums = [digit_sum(x) for x in numbers]\n",
    "\n",
    "# Use list comprehension to add up all the digit sums\n",
    "total = sum(digit_sums)\n",
    "\n",
    "# Print the total\n",
    "print(total)\n"
   ]
  },
  {
   "cell_type": "code",
   "execution_count": 12,
   "id": "7c7cb7c8",
   "metadata": {},
   "outputs": [
    {
     "name": "stdout",
     "output_type": "stream",
     "text": [
      "Prime palindromic numbers up to 1000:\n",
      "[2, 3, 5, 7, 11, 101, 131, 151, 181, 191, 313, 353, 373, 383, 727, 757, 787, 797, 919, 929]\n"
     ]
    }
   ],
   "source": [
    "# 40. Write a program that generates a list of prime palindromic numbers using list comprehension.\n",
    "\n",
    "# Function to check if a number is prime\n",
    "def is_prime(number):\n",
    "    if number <= 1:\n",
    "        return False\n",
    "    if number == 2:\n",
    "        return True\n",
    "    if number % 2 == 0:\n",
    "        return False\n",
    "    for i in range(3, int(number**0.5) + 1, 2):\n",
    "        if number % i == 0:\n",
    "            return False\n",
    "    return True\n",
    "\n",
    "# Function to check if a number is a palindrome\n",
    "def is_palindrome(number):\n",
    "    return str(number) == str(number)[::-1]\n",
    "\n",
    "# List comprehension to generate prime palindromic numbers\n",
    "prime_palindromes = [num for num in range(2, 1000) if is_prime(num) and is_palindrome(num)]\n",
    "\n",
    "# Print the prime palindromic numbers\n",
    "print(\"Prime palindromic numbers up to 1000:\")\n",
    "print(prime_palindromes)\n"
   ]
  },
  {
   "cell_type": "code",
   "execution_count": null,
   "id": "17a48c16",
   "metadata": {},
   "outputs": [],
   "source": []
  }
 ],
 "metadata": {
  "kernelspec": {
   "display_name": "Python 3 (ipykernel)",
   "language": "python",
   "name": "python3"
  },
  "language_info": {
   "codemirror_mode": {
    "name": "ipython",
    "version": 3
   },
   "file_extension": ".py",
   "mimetype": "text/x-python",
   "name": "python",
   "nbconvert_exporter": "python",
   "pygments_lexer": "ipython3",
   "version": "3.9.13"
  }
 },
 "nbformat": 4,
 "nbformat_minor": 5
}
